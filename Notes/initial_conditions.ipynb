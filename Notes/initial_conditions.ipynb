{
 "cells": [
  {
   "cell_type": "code",
   "execution_count": 5,
   "id": "3ccd6ab8",
   "metadata": {},
   "outputs": [],
   "source": [
    "import numpy as np\n",
    "def generate_init_conds(dx = .1, grid=None):        \n",
    "    \"\"\"        \n",
    "        This method accumulates all initial trajectories within the\n",
    "        given bounds of the state space.\n",
    "\n",
    "        Inputs\n",
    "        ------\n",
    "        .dx: delta between every discretization between trajectories that emerge on \n",
    "            the state space. \n",
    "        .grid: Optional. Grid properties as already created by createGrid in the LevelSetPy Toolbox.\n",
    "\n",
    "        Output\n",
    "        -------\n",
    "        .X: A Numpy array of all trajectories that emanate as initial conditions from \n",
    "        the state space.\n",
    "    \"\"\"\n",
    "    # contants\n",
    "    a = 64 # ft/sec^2\n",
    "    g = 32 # ft/sec^2\n",
    "\n",
    "    if grid is not None:\n",
    "        grid_min  = grid.min\n",
    "        grid_max  = grid.max\n",
    "    else:\n",
    "        grid_min = np.array(([0, 0, 64, g]))\n",
    "        grid_max = np.array(([1e1, 1e1, 64+10, g+10]))\n",
    "\n",
    "\n",
    "    x1_ran = np.linspace(grid_min[0], grid_max[0], np.ceil((grid_max[0]-grid_min[0])/dx).astype(np.int32))\n",
    "    x2_ran = np.linspace(grid_min[1], grid_max[1], np.ceil((grid_max[1]-grid_min[1])/dx).astype(np.int32))\n",
    "    x3_ran = np.linspace(grid_min[2], grid_max[2], np.ceil((grid_max[2]-grid_min[2])/dx).astype(np.int32))\n",
    "    x4_ran = np.linspace(grid_min[3], grid_max[3], np.ceil((grid_max[3]-grid_min[3])/dx).astype(np.int32))\n",
    "\n",
    "    x1_grid, x2_grid, x3_grid, x4_grid = np.meshgrid(x1_ran,x2_ran,x3_ran,x4_ran)\n",
    "\n",
    "    X = np.array((x1_grid.ravel(), x2_grid.ravel(), x3_grid.ravel(), x4_grid.ravel())).T\n",
    "\n",
    "\n",
    "    return X"
   ]
  },
  {
   "cell_type": "code",
   "execution_count": 6,
   "id": "ddebc622",
   "metadata": {},
   "outputs": [],
   "source": [
    "X_grid = generate_init_conds()"
   ]
  },
  {
   "cell_type": "code",
   "execution_count": 9,
   "id": "66aed7dc",
   "metadata": {},
   "outputs": [
    {
     "data": {
      "text/plain": [
       "(100000000, 4)"
      ]
     },
     "execution_count": 9,
     "metadata": {},
     "output_type": "execute_result"
    }
   ],
   "source": [
    "X_grid.shape"
   ]
  },
  {
   "cell_type": "code",
   "execution_count": null,
   "id": "7ea828a2",
   "metadata": {},
   "outputs": [],
   "source": []
  }
 ],
 "metadata": {
  "kernelspec": {
   "display_name": "Python 3",
   "language": "python",
   "name": "python3"
  },
  "language_info": {
   "codemirror_mode": {
    "name": "ipython",
    "version": 3
   },
   "file_extension": ".py",
   "mimetype": "text/x-python",
   "name": "python",
   "nbconvert_exporter": "python",
   "pygments_lexer": "ipython3",
   "version": "3.8.8"
  }
 },
 "nbformat": 4,
 "nbformat_minor": 5
}
