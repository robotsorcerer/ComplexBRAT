{
 "cells": [
  {
   "cell_type": "code",
   "execution_count": 1,
   "metadata": {},
   "outputs": [],
   "source": [
    "import sys\n",
    "import copy\n",
    "import random\n",
    "import hashlib\n",
    "import cupy as cp \n",
    "import numpy as np\n",
    "from math import pi\n",
    "import numpy.linalg as LA\n",
    "from os.path import abspath, join\n",
    "sys.path.append(abspath(join('..')))\n",
    "sys.path.append(abspath(join('../..')))\n",
    "\n",
    "from datetime import datetime\n",
    "from os.path import expanduser\n",
    "\n",
    "import matplotlib.pyplot as plt\n",
    "import matplotlib.gridspec as gridspec\n",
    "\n",
    "from LevelSetPy.Grids import *\n",
    "from LevelSetPy.Utilities import *\n",
    "from LevelSetPy.Visualization import *\n",
    "from LevelSetPy.DynamicalSystems import *\n",
    "from LevelSetPy.BoundaryCondition import *\n",
    "from LevelSetPy.InitialConditions import *\n",
    "from LevelSetPy.SpatialDerivative import *\n",
    "from LevelSetPy.ExplicitIntegration import *\n",
    "from BRATVisualization.rcbrt_visu import RCBRTVisualizer\n",
    "\n",
    "%matplotlib inline"
   ]
  },
  {
   "cell_type": "code",
   "execution_count": 2,
   "metadata": {},
   "outputs": [],
   "source": [
    "args = Bundle(dict(visualize=True, flock_num=4, resume=\"murmurations_flock_01_02-06-22_17-43.hdf5\", flock_payoff=False, pause_time=1e-5))"
   ]
  },
  {
   "cell_type": "code",
   "execution_count": 3,
   "metadata": {},
   "outputs": [],
   "source": [
    "grid_min = expand(np.array((-.75, -1.25, -np.pi)), ax = 1)\n",
    "grid_max = expand(np.array((3.25, 1.25, np.pi)), ax = 1)\n",
    "pdDims = 2                      # 3rd dimension is periodic\n",
    "resolution = 100\n",
    "N = np.array(([[\n",
    "                resolution,\n",
    "                np.ceil(resolution*(grid_max[1, 0] - grid_min[1, 0])/ \\\n",
    "                            (grid_max[0, 0] - grid_min[0, 0])),\n",
    "                resolution-1\n",
    "                ]])).T.astype(int)\n",
    "grid_max[2, 0] *= (1-2/N[2,0])\n",
    "g = createGrid(grid_min, grid_max, N, pdDims)"
   ]
  },
  {
   "cell_type": "markdown",
   "metadata": {},
   "source": [
    "### Dynamics of the System\n",
    "\n",
    "$x_1$ is horizontal range; $x_2$ is altitude; $x_3$ is horizontal velocity; $x_4$ is vertical velocity\n",
    "\n",
    "$$\n",
    "\\begin{align}\n",
    "    &\\dot{x}_1 = x_3 \\\\\n",
    "    &\\dot{x}_2 = x_4 \\\\\n",
    "    &\\dot{x}_3 = a\\cos(u) + d\\cos(v) \\\\\n",
    "    &\\dot{x}_4 = a\\sin(u) + d\\sin(v) - g\n",
    "\\end{align}\n",
    "$$\n",
    "Write it as compact form\n",
    "$$\n",
    "\\begin{align}\n",
    "\\dot{x} = f(x) + l(u) + g(v)\n",
    "\\end{align}\n",
    "$$"
   ]
  },
  {
   "cell_type": "code",
   "execution_count": 8,
   "metadata": {},
   "outputs": [],
   "source": [
    "def system(a, d, x, u, v):\n",
    "    '''\n",
    "    dx/dt = f(x) + l(u) + g(v) \n",
    "    input:\n",
    "        a/d - acceleration of propulsive force/wind \n",
    "        x - state\n",
    "        u - control input (angle of propulsive force)\n",
    "        v - disturbance (angle of wind)\n",
    "    output:\n",
    "        dx - derivative of state\n",
    "        f_x - derivative of f with respect to x\n",
    "        l_u - derivative of l with respect to u\n",
    "        g_v - derivative of l with respect to v\n",
    "    '''\n",
    "    g = 32.0 # gravitational acceleration, 32ft/sec^2\n",
    "    \n",
    "    dx = np.array([x[2], x[3], a*np.cos(u)+d*np.cos(v), a*np.sin(u)+d*np.sin(v)-g])\n",
    "    f_x = np.array([[.0, .0, 1.0, .0],[.0, .0, .0, 1.0], [.0 , .0, .0, .0,], [.0 , .0, .0, .0,]])\n",
    "    l_u = np.array([.0, .0, -a*np.sin(u), a*np.cos(u)])\n",
    "    g_v = np.array([.0, .0, -d*np.sin(v), d*np.cos(v)])\n",
    "    \n",
    "    return dx, f_x, l_u, g_v"
   ]
  },
  {
   "cell_type": "markdown",
   "metadata": {},
   "source": [
    "## Hamiltonian\n",
    "\n",
    "$$H(x,u,v,p) = p_1x_3 + p_2x_4 + p_3(a\\cos(u) + d\\cos(v)) + p_4(a\\sin(u)+d\\sin(v)-g)$$\n",
    "Partial derivative of $H$ with respect to $u$\n",
    "$$\n",
    "\\begin{align}\n",
    "&H_u = -p_3a\\sin(u) + p_4a\\cos(u) \\\\\n",
    "&H_{uu} = -p_3a\\cos(u) - p_4a\\sin(u) \\\\\n",
    "&H_{uv} = 0 \\\\\n",
    "&H_{ux} = \\begin{bmatrix}0 &0 &0 &0 \\end{bmatrix}^T\n",
    "\\end{align}\n",
    "$$\n",
    "Partial derivative of $H$ with respect to $v$\n",
    "$$\n",
    "\\begin{align}\n",
    "&H_v = -p_3d\\sin(v) + p_4d\\cos(v) \\\\\n",
    "&H_{vv} = -p_3d\\cos(v) - p_4d\\sin(v) \\\\\n",
    "&H_{vu} = 0 \\\\\n",
    "&H_{vx} = \\begin{bmatrix}0 &0 &0 &0 \\end{bmatrix}^T\n",
    "\\end{align}\n",
    "$$\n",
    "\n",
    "Partial derivative of $H$ with respect to $x$\n",
    "$$\n",
    "\\begin{align}\n",
    "&H_x = \\begin{bmatrix}0 &0 &p_1 &p_2 \\end{bmatrix}^T \\\\\n",
    "&H_{xx} = 0_{4\\times4} \\\\\n",
    "&H_{xu} = \\begin{bmatrix}0 &0 &0 &0 \\end{bmatrix}^T\\\\\n",
    "&H_{xv} = \\begin{bmatrix}0 &0 &0 &0 \\end{bmatrix}^T\n",
    "\\end{align}\n",
    "$$"
   ]
  },
  {
   "cell_type": "code",
   "execution_count": 9,
   "metadata": {},
   "outputs": [],
   "source": [
    "def hamiltonian(a, b, x, u, v, p):\n",
    "    '''\n",
    "    input: \n",
    "        a/b - acceleration of propulsive force/wind         \n",
    "        x - state\n",
    "        u - control input\n",
    "        v - disturbance\n",
    "        p - costate\n",
    "    output:\n",
    "        H_u, H_ux, H_uu, H_v, H_vx, H_vv, H_uv, H_xx, H_xu, H_xv - derivative of Hammilton with respect to coresponding variables\n",
    "    '''\n",
    "    \n",
    "    H_u = -p[2]*a*np.sin(u) + p[3]*a*np.cos(u)         \n",
    "    H_uu = -p[2]*a*np.cos(u) - p[3]*a*np.sin(u)    \n",
    "    H_uv = np.array([0]) \n",
    "    H_ux = np.array([.0, .0, .0, .0])\n",
    "    \n",
    "    H_v = -p[2]*d*np.sin(v) + p[3]*d*np.cos(v)      \n",
    "    H_vv = -p[2]*d*np.cos(v) - p[3]*d*np.sin(v) \n",
    "    H_vx =  np.array([.0, .0, .0, .0])\n",
    "    \n",
    "\n",
    "    H_x = np.array([.0, .0, p[0], p[1]])\n",
    "    H_xx = np.zeros([4, 4])\n",
    "\n",
    "    return H_u, H_uu, H_uv, H_ux, H_v, H_vv, H_vx, H_x, H_xx\n",
    "    \n",
    "\n",
    "    "
   ]
  },
  {
   "cell_type": "code",
   "execution_count": null,
   "metadata": {},
   "outputs": [],
   "source": []
  },
  {
   "cell_type": "code",
   "execution_count": null,
   "metadata": {},
   "outputs": [],
   "source": [
    "def forward(x_r, u_opt, v_opt):\n",
    "    '''\n",
    "    input:\n",
    "        x_r - trajectory of state at given time grid\n",
    "        u_opt - trajectory of input at given time grid\n",
    "        v_opt - trajectory of disturbance at given time grid\n",
    "    output:\n",
    "        V_opt - value function\n",
    "        u_r_opt\n",
    "        v_r_opt\n",
    "    '''\n",
    "\n",
    "    \n",
    "    \n",
    "    \n",
    "    \n",
    "    \n",
    "    "
   ]
  },
  {
   "cell_type": "code",
   "execution_count": null,
   "metadata": {},
   "outputs": [],
   "source": [
    "def backward(x_r, u_r, v_r, t_grid):\n",
    "    '''\n",
    "    input:\n",
    "        x_r - trajectory of state at given time grid\n",
    "        u_r - trajectory of input at given time grid\n",
    "        v_r - trajectory of disturbance at given time grid\n",
    "        t_grid - time grid partitions the time interval [-T, 0]\n",
    "    output:\n",
    "        V_r - value function at \n",
    "    '''\n",
    "        "
   ]
  },
  {
   "cell_type": "code",
   "execution_count": 4,
   "metadata": {},
   "outputs": [],
   "source": [
    "\"\"\"\n",
    "    What we do here is really simple. We run as many \n",
    "    a fwd and backward pass of ddp algos as possible  \n",
    "    on trajectories that are finely spaced apart by g.dx \n",
    "    \n",
    "    This part accumulates all trajectories within grid bounds\n",
    "\"\"\"\n",
    "V_buf = []\n",
    "all_traj = [copy.deepcopy(grid_min)]\n",
    "while np.any(all_traj[-1]<grid_max):\n",
    "    all_traj += [all_traj[-1]+g.dx]\n",
    "\n",
    "all_traj = np.array(all_traj[:resolution]).squeeze()\n",
    "\n",
    "# fix the inconsistencies in (x1, x2, x3)\n",
    "indices = [np.nan for idx in range(len(all_traj))]\n",
    "for dim in range(all_traj.shape[-1]):\n",
    "    indices[dim] = all_traj[:,dim]>grid_max[dim,0]\n",
    "    \n",
    "# replace trajectories with bounds that exceed max \n",
    "# values along respective dimensions\n",
    "for dim in range(all_traj.shape[-1]):\n",
    "    all_traj[indices[dim],dim] = grid_max[dim,0]"
   ]
  },
  {
   "cell_type": "code",
   "execution_count": null,
   "metadata": {},
   "outputs": [],
   "source": [
    "x = [1.5, 2.5, 3.0] \n",
    "dx = .1\n",
    "\n",
    "grid_min = [1, 2, 2.5]\n",
    "grid_max = [2, 3.5, 4.5]\n",
    "\n",
    "X = [grid_min]\n",
    "for i < N:\n",
    "    X += X[-1]+dx"
   ]
  },
  {
   "cell_type": "code",
   "execution_count": 7,
   "metadata": {},
   "outputs": [
    {
     "ename": "SyntaxError",
     "evalue": "invalid syntax (<ipython-input-7-dff177466b76>, line 11)",
     "output_type": "error",
     "traceback": [
      "\u001b[1;36m  File \u001b[1;32m\"<ipython-input-7-dff177466b76>\"\u001b[1;36m, line \u001b[1;32m11\u001b[0m\n\u001b[1;33m    xr =\u001b[0m\n\u001b[1;37m         ^\u001b[0m\n\u001b[1;31mSyntaxError\u001b[0m\u001b[1;31m:\u001b[0m invalid syntax\n"
     ]
    }
   ],
   "source": [
    "\"\"\"\n",
    "    Once we have the trajectories, we can start with the \n",
    "    usual backward and forward pass of DDP.\n",
    "    \n",
    "    This will require two loops:\n",
    "        Upper loop: Whereupon we iterate throuh every possible trajectory in \n",
    "        the system\n",
    "        Lower loop: Forward and backward passes of DDP\n",
    "\"\"\"\n",
    "x = copy.copy(all_traj)\n",
    "xr = \n",
    "# Here we go:\n",
    "for traj_idx, traj in enumerate(all_traj):\n",
    "    "
   ]
  },
  {
   "cell_type": "code",
   "execution_count": 39,
   "metadata": {},
   "outputs": [
    {
     "data": {
      "text/plain": [
       "(array([[3.25      , 1.25      , 3.07812614]]), (3, 1))"
      ]
     },
     "execution_count": 39,
     "metadata": {},
     "output_type": "execute_result"
    }
   ],
   "source": [
    "grid_max.T, grid_max.shape"
   ]
  },
  {
   "cell_type": "markdown",
   "metadata": {},
   "source": [
    "### Polytope test\n",
    "\n",
    "Given a matrix $A \\in \\mathbb{R}^n$ and a vector $b \\in \\mathbb{R}^m$, an $\\mathcal{H}-$ polyhedron is\n",
    "\n",
    "\\begin{align}\n",
    "    \\mathcal{P} = \\left\\{x \\in \\mathbb{R}^n \\mid Ax \\le b \\right\\}\n",
    "\\end{align}"
   ]
  },
  {
   "cell_type": "code",
   "execution_count": 33,
   "metadata": {},
   "outputs": [
    {
     "data": {
      "text/plain": [
       "array([[3.0000e-02, 3.5350e+00, 5.5000e+01],\n",
       "       [8.4000e-01, 1.1615e+01, 6.7000e+01],\n",
       "       [1.9000e-01, 1.2625e+01, 8.8000e+01]])"
      ]
     },
     "execution_count": 33,
     "metadata": {},
     "output_type": "execute_result"
    }
   ],
   "source": [
    "# x = np.linspace(0.1, 10, 3)\n",
    "\n",
    "A = np.array([\n",
    "     [.3, .7, 5.5],\n",
    "     [8.4, 2.3, 6.7],\n",
    "     [1.9, 2.5, 8.8]])\n",
    "\n",
    "b = [1, 2, 3]\n",
    "\n",
    "\n",
    "# Compute various x's\n",
    "import numpy.linalg as LA \n",
    "Xes = []\n",
    "\n",
    "\n"
   ]
  }
 ],
 "metadata": {
  "interpreter": {
   "hash": "874e9c5d3e1d3c4d0308033a6b04954c770eba71063a41ed49bc0fc997058881"
  },
  "kernelspec": {
   "display_name": "Python 3",
   "language": "python",
   "name": "python3"
  },
  "language_info": {
   "codemirror_mode": {
    "name": "ipython",
    "version": 3
   },
   "file_extension": ".py",
   "mimetype": "text/x-python",
   "name": "python",
   "nbconvert_exporter": "python",
   "pygments_lexer": "ipython3",
   "version": "3.8.8"
  }
 },
 "nbformat": 4,
 "nbformat_minor": 4
}
