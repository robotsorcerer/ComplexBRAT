{
 "cells": [
  {
   "cell_type": "code",
   "execution_count": 2,
   "metadata": {},
   "outputs": [],
   "source": [
    "__author__ \t\t= \"Lekan Molu\"\n",
    "__copyright__ \t= \"2021, Hamilton-Jacobi Analysis in Python\"\n",
    "__license__ \t= \"Molux License\"\n",
    "__comment__ \t= \"Evader at origin\"\n",
    "__maintainer__ \t= \"Lekan Molu\"\n",
    "__email__ \t\t= \"patlekno@icloud.com\"\n",
    "__comment__     = 'RCBRT Air3D Basic'\n",
    "__status__ \t\t= \"Completed\"\n",
    "__date__ \t\t= \"Nov. 2021\"\n",
    "\n",
    "import copy\n",
    "import time\n",
    "import logging\n",
    "import argparse\n",
    "import sys, os\n",
    "import cupy as cp\n",
    "import numpy  as np\n",
    "from math import pi\n",
    "import matplotlib.pyplot as plt\n",
    "import matplotlib.gridspec as gridspec\n",
    "from mpl_toolkits.mplot3d.art3d import Poly3DCollection\n",
    "from skimage import measure\n",
    "\n",
    "from os.path import abspath, join, dirname\n",
    "sys.path.append(abspath(join('../..')))\n",
    "from LevelSetPy.Utilities import *\n",
    "from LevelSetPy.Visualization import *\n",
    "from LevelSetPy.Grids import createGrid\n",
    "from LevelSetPy.InitialConditions import shapeCylinder\n",
    "from LevelSetPy.SpatialDerivative import upwindFirstENO2\n",
    "from LevelSetPy.ExplicitIntegration.Dissipation import artificialDissipationGLF\n",
    "\n",
    "from os.path import dirname, abspath, join\n",
    "sys.path.append(abspath(join('..')))\n",
    "from BRATSolver.brt_solver import solve_brt"
   ]
  },
  {
   "cell_type": "code",
   "execution_count": 3,
   "metadata": {},
   "outputs": [],
   "source": [
    "grid_min = expand(np.array((-6, -10, 0)), ax = 1)\n",
    "grid_max = expand(np.array((20, 10, 2*pi)), ax = 1)\n",
    "pdDims = 2                      # 3rd dimension is periodic\n",
    "resolution = 51\n",
    "N = np.array(([[\n",
    "                resolution,\n",
    "                np.ceil(resolution*(grid_max[1, 0] - grid_min[1, 0])/ \\\n",
    "                            (grid_max[0, 0] - grid_min[0, 0])),\n",
    "                resolution-1\n",
    "                ]])).T.astype(int)\n",
    "grid_max[2, 0] *= (1-1/N[2,0])"
   ]
  },
  {
   "cell_type": "code",
   "execution_count": 4,
   "metadata": {},
   "outputs": [],
   "source": [
    "obj = Bundle(dict(grid = createGrid(grid_min, grid_max, N, pdDims),\n",
    "\t\t\t\t\taxis_align=2, center=np.zeros((3,1), dtype=np.float64), \n",
    "\t\t\t\t\tradius=5,\n",
    "\t\t\t\t\t))\n",
    "\n",
    "# define the target set\n",
    "def get_payoff(g):\n",
    "\tcylinder = shapeCylinder(g.grid, g.axis_align, g.center, g.radius)\n",
    "\treturn cylinder\n",
    "\n",
    "def get_hamiltonian_func(t, data, deriv, finite_diff_data):\n",
    "\tglobal obj\n",
    "\tham_value = deriv[0] * obj.p1_term + \\\n",
    "\t\t\t\tderiv[1] * obj.p2_term - \\\n",
    "\t\t\t\tobj.omega_e_bound*np.abs(deriv[0]*obj.grid.xs[1] - \\\n",
    "\t\t\t\tderiv[1] * obj.grid.xs[0] - deriv[2])  + \\\n",
    "\t\t\t\tobj.omega_p_bound * np.abs(deriv[2])\n",
    "\n",
    "\treturn ham_value, finite_diff_data\n",
    "\n",
    "def get_partial_func(t, data, derivMin, derivMax, \\\n",
    "\t\t\t  schemeData, dim):\n",
    "\t\"\"\"\n",
    "\t\tCalculate the extrema of the absolute value of the partials of the\n",
    "\t\tanalytic Hamiltonian with respect to the costate (gradient).\n",
    "\t\"\"\"\n",
    "\tglobal obj\n",
    "\n",
    "\tassert dim>=0 and dim <3, \"grid dimension has to be between 0 and 2 inclusive.\"\n",
    "\n",
    "\treturn obj.alpha[dim]"
   ]
  },
  {
   "cell_type": "code",
   "execution_count": null,
   "metadata": {},
   "outputs": [],
   "source": [
    "\n",
    "payoff = get_payoff(obj)\n",
    "payoff_init = copy.copy(payoff)"
   ]
  },
  {
   "cell_type": "code",
   "execution_count": 10,
   "metadata": {},
   "outputs": [
    {
     "data": {
      "text/plain": [
       "5.0"
      ]
     },
     "execution_count": 10,
     "metadata": {},
     "output_type": "execute_result"
    }
   ],
   "source": [
    "v = 5.0\n",
    "we = lambda w: w* v\n",
    "we(1.0)"
   ]
  },
  {
   "cell_type": "code",
   "execution_count": null,
   "metadata": {},
   "outputs": [],
   "source": []
  }
 ],
 "metadata": {
  "interpreter": {
   "hash": "03de5ae40d8420d5e6c27f780eed9f64dbe49595cc9928925af7b525c3ef2b22"
  },
  "kernelspec": {
   "display_name": "Python 3.7.10 64-bit ('37': conda)",
   "language": "python",
   "name": "python3"
  },
  "language_info": {
   "codemirror_mode": {
    "name": "ipython",
    "version": 3
   },
   "file_extension": ".py",
   "mimetype": "text/x-python",
   "name": "python",
   "nbconvert_exporter": "python",
   "pygments_lexer": "ipython3",
   "version": "3.7.10"
  },
  "orig_nbformat": 4
 },
 "nbformat": 4,
 "nbformat_minor": 2
}
