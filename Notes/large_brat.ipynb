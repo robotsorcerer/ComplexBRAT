{
 "cells": [
  {
   "cell_type": "code",
   "execution_count": 1,
   "metadata": {},
   "outputs": [],
   "source": [
    "import sys\n",
    "import numpy as np\n",
    "from os.path import abspath, join\n",
    "sys.path.append(abspath(join('../..')))\n",
    "\n",
    "from math import pi\n",
    "\n",
    "from LevelSetPy.Utilities import *\n",
    "from LevelSetPy.BoundaryCondition import *\n",
    "from LevelSetPy.Visualization import *\n",
    "# from LevelSetPy.DynamicalSystems import *\n",
    "from LevelSetPy.Grids import *\n",
    "from LevelSetPy.InitialConditions import *\n",
    "from LevelSetPy.SpatialDerivative import *\n",
    "from LevelSetPy.ExplicitIntegration.Dissipation import *\n",
    "\n",
    "# from LargeBRAT.BRATSolver.brt_solver import solve_brt"
   ]
  },
  {
   "cell_type": "code",
   "execution_count": 2,
   "metadata": {},
   "outputs": [],
   "source": [
    "\n",
    "obj = Bundle({})\n",
    "\n",
    "pdDims = 2; N = 100\n",
    "v, w = +1, +1\n",
    "obj.ve, obj.vp = v, v\n",
    "obj.we, obj.wp = -w, w"
   ]
  },
  {
   "cell_type": "code",
   "execution_count": 3,
   "metadata": {},
   "outputs": [],
   "source": [
    "\n",
    "# get player (pursuer) 1's state space\n",
    "gmin = np.array(([[-5, -5, -pi]])).T\n",
    "gmax = np.array(([[5, 5, pi]])).T\n",
    "obj.p1 = Bundle({'pursuer':Bundle({}), 'evader':Bundle({})})\n",
    "obj.p1.pursuer.grid = createGrid(gmin, gmax, N, pdDims)\n",
    "obj.p1.pursuer.center = 0\n",
    "\n",
    "# get player (evader) 2's state space\n",
    "gmin = np.array(([[-3, -3, -2*pi]])).T\n",
    "gmax = np.array(([[7, 7, 2*pi]])).T\n",
    "obj.p1.evader.grid = createGrid(gmin, gmax, N, pdDims)\n",
    "obj.p1.evader.center = np.array(([[1.5, 1.5, 4*pi/2]]),dtype=np.float64).T\n",
    "\n",
    "# get player (pursuer) 3's state space\n",
    "gmin = np.array(([[1, 1, 2]])).T\n",
    "gmax = np.array(([[6, 6, 8]])).T\n",
    "obj.p2 = Bundle({'pursuer':Bundle({}), 'evader':Bundle({})})\n",
    "obj.p2.pursuer.grid = createGrid(gmin, gmax, N, pdDims)\n",
    "obj.p2.pursuer.center = np.array(([[3.5, 3.5, 4]]),dtype=np.float64).T\n",
    "\n",
    "# get player (evader) 4's state space\n",
    "gmin = np.array(([[3, 3, 2*pi/3]])).T\n",
    "gmax = np.array(([[3*pi, 3*pi, 4*pi]])).T\n",
    "obj.p2.evader.grid = createGrid(gmin, gmax, N, pdDims)\n",
    "obj.p2.evader.center = np.array(([[(3*pi-3)/2., (3*pi-3)/2., (4.0-2/3)*(pi/2.0)]]),dtype=np.float64).T\n",
    "\n"
   ]
  },
  {
   "cell_type": "code",
   "execution_count": 4,
   "metadata": {},
   "outputs": [],
   "source": [
    "p1, p2, mode= obj.p1.pursuer, obj.p1.evader, 'capture'\n",
    "\n",
    "assert isfield(p1, 'center'), 'player I must have a center '\\\n",
    "                                'defined for its capture equation.'\n",
    "assert isfield(p2, 'center'), 'player II must have a center '\\\n",
    "                                'defined for its capture equation.'\n",
    "assert isfield(p1, 'grid'), 'player I must have its grid info'\n",
    "assert isfield(p2, 'grid'), 'player II must have its grid info'\n",
    "\n",
    "x1 = p1.grid.xs\n",
    "x2 = p2.grid.xs\n",
    "\n",
    "p1_dyn  = cell(3)\n",
    "p2_dyn = cell(3)\n",
    "\n",
    "p1_dyn[0] = obj.vp*np.cos(x1[2])\n",
    "p1_dyn[1] = obj.vp*np.sin(x1[2])\n",
    "p1_dyn[2] = obj.we\n",
    "\n",
    "p2_dyn[0] = obj.ve*np.cos(x2[2])\n",
    "p2_dyn[1] = obj.ve*np.sin(x2[2])\n",
    "p2_dyn[2] = obj.wp\n",
    "\n",
    "data_agent1 = np.zeros(p1.grid.shape)\n",
    "data_agent2 = np.zeros(p2.grid.shape)\n",
    "\n",
    "if isfield(p1, 'center') and numel(p1.center==1):\n",
    "    p1.center = p1.center*np.ones((p1.grid.dim,1), dtype=np.float64)\n",
    "if isfield(p2, 'center') and numel(p2.center==1):\n",
    "    p2.center = p2.center*np.ones((p2.grid.dim,1), dtype=np.float64)\n",
    "        "
   ]
  },
  {
   "cell_type": "markdown",
   "metadata": {},
   "source": [
    "### This for the Double Integrator"
   ]
  },
  {
   "cell_type": "code",
   "execution_count": 1,
   "metadata": {},
   "outputs": [],
   "source": [
    "import cupy as cp\n",
    "import numpy as np\n",
    "\n",
    "import sys\n",
    "from os.path import abspath, join\n",
    "sys.path.append(abspath(join('../..')))\n",
    "from LevelSetPy.Utilities import *\n",
    "from LevelSetPy.Grids import createGrid\n",
    "from LevelSetPy.Helper import postTimeStepTTR\n",
    "from LevelSetPy.Visualization import implicit_mesh\n",
    "from LevelSetPy.DynamicalSystems import DoubleIntegrator\n",
    "from LevelSetPy.SpatialDerivative import upwindFirstWENO5\n",
    "from LevelSetPy.ExplicitIntegration import artificialDissipationGLF\n",
    "from LevelSetPy.ExplicitIntegration.Integration import odeCFL3, odeCFLset\n",
    "from LevelSetPy.ExplicitIntegration.Term import termRestrictUpdate, termLaxFriedrichs\n"
   ]
  },
  {
   "cell_type": "code",
   "execution_count": 2,
   "metadata": {},
   "outputs": [],
   "source": [
    "gmin = np.array(([[-1, -1]]),dtype=np.float64).T\n",
    "gmax = np.array(([[1, 1]]),dtype=np.float64).T\n",
    "g = createGrid(gmin, gmax, 101, None)\n",
    "\n",
    "eps_targ = 1.0\n",
    "u_bound = 1\n",
    "target_rad = .2 #eps_targ * np.max(g.dx)\n",
    "dint = DoubleIntegrator(g, u_bound)\n",
    "value_time2reach = dint.min_time2reach() - target_rad\n",
    "value_time2reach = np.maximum(0, value_time2reach)"
   ]
  },
  {
   "cell_type": "code",
   "execution_count": 5,
   "metadata": {},
   "outputs": [],
   "source": [
    "above_curve=dint.grid.xs[0]>dint.Gamma\n",
    "below_curve=dint.grid.xs[0]<dint.Gamma\n",
    "on_curve=dint.grid.xs[0]==dint.Gamma\n",
    "\n",
    "reach_term1  = (dint.grid.xs[1] + np.emath.sqrt(4*dint.grid.xs[0] + \\\n",
    "                         2 * dint.grid.xs[1]**2))*above_curve\n",
    "reach_term2 =  (-dint.grid.xs[1]+np.emath.sqrt(-4*dint.grid.xs[0] + \\\n",
    "                2 * dint.grid.xs[1]**2) )*below_curve\n",
    "reach_term3 = np.abs(dint.grid.xs[1]) * on_curve\n",
    "reach_time = reach_term1.real + reach_term2.real + reach_term3"
   ]
  },
  {
   "cell_type": "code",
   "execution_count": 6,
   "metadata": {},
   "outputs": [
    {
     "data": {
      "text/plain": [
       "0.02"
      ]
     },
     "execution_count": 6,
     "metadata": {},
     "output_type": "execute_result"
    }
   ],
   "source": [
    "eps_targ * np.max(g.dx)"
   ]
  },
  {
   "cell_type": "code",
   "execution_count": 7,
   "metadata": {},
   "outputs": [
    {
     "data": {
      "text/plain": [
       "162.46702711404032"
      ]
     },
     "execution_count": 7,
     "metadata": {},
     "output_type": "execute_result"
    }
   ],
   "source": [
    "np.linalg.norm(reach_time-target_rad)"
   ]
  },
  {
   "cell_type": "code",
   "execution_count": null,
   "metadata": {},
   "outputs": [],
   "source": []
  }
 ],
 "metadata": {
  "interpreter": {
   "hash": "a47cc16acb1e9503f067273f1dc5f16922188ba58502bb3ebce30741f9e7611a"
  },
  "kernelspec": {
   "display_name": "Python 3.7.10 64-bit ('37': conda)",
   "language": "python",
   "name": "python3"
  },
  "language_info": {
   "codemirror_mode": {
    "name": "ipython",
    "version": 3
   },
   "file_extension": ".py",
   "mimetype": "text/x-python",
   "name": "python",
   "nbconvert_exporter": "python",
   "pygments_lexer": "ipython3",
   "version": "3.7.10"
  },
  "orig_nbformat": 4
 },
 "nbformat": 4,
 "nbformat_minor": 2
}
