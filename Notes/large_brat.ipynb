{
 "cells": [
  {
   "cell_type": "code",
   "execution_count": 2,
   "metadata": {},
   "outputs": [],
   "source": [
    "import sys\n",
    "import numpy as np\n",
    "from os.path import abspath, join\n",
    "sys.path.append(abspath(join('../..')))\n",
    "\n",
    "from math import pi\n",
    "\n",
    "from LevelSetPy.Utilities import *\n",
    "from LevelSetPy.BoundaryCondition import *\n",
    "from LevelSetPy.Visualization import *\n",
    "# from LevelSetPy.DynamicalSystems import *\n",
    "from LevelSetPy.Grids import *\n",
    "from LevelSetPy.DynamicalSystems import *\n",
    "from LevelSetPy.InitialConditions import *\n",
    "from LevelSetPy.SpatialDerivative import *\n",
    "from LevelSetPy.ExplicitIntegration.Dissipation import *\n",
    "\n",
    "# from LargeBRAT.BRATSolver.brt_solver import solve_brt"
   ]
  },
  {
   "cell_type": "code",
   "execution_count": 2,
   "metadata": {},
   "outputs": [],
   "source": [
    "\n",
    "obj = Bundle({})\n",
    "\n",
    "pdDims = 2; N = 100\n",
    "v, w = +1, +1\n",
    "obj.ve, obj.vp = v, v\n",
    "obj.we, obj.wp = -w, w"
   ]
  },
  {
   "cell_type": "code",
   "execution_count": 3,
   "metadata": {},
   "outputs": [],
   "source": [
    "\n",
    "# get player (pursuer) 1's state space\n",
    "gmin = np.array(([[-5, -5, -pi]])).T\n",
    "gmax = np.array(([[5, 5, pi]])).T\n",
    "obj.p1 = Bundle({'pursuer':Bundle({}), 'evader':Bundle({})})\n",
    "obj.p1.pursuer.grid = createGrid(gmin, gmax, N, pdDims)\n",
    "obj.p1.pursuer.center = 0\n",
    "\n",
    "# get player (evader) 2's state space\n",
    "gmin = np.array(([[-3, -3, -2*pi]])).T\n",
    "gmax = np.array(([[7, 7, 2*pi]])).T\n",
    "obj.p1.evader.grid = createGrid(gmin, gmax, N, pdDims)\n",
    "obj.p1.evader.center = np.array(([[1.5, 1.5, 4*pi/2]]),dtype=np.float64).T\n",
    "\n",
    "# get player (pursuer) 3's state space\n",
    "gmin = np.array(([[1, 1, 2]])).T\n",
    "gmax = np.array(([[6, 6, 8]])).T\n",
    "obj.p2 = Bundle({'pursuer':Bundle({}), 'evader':Bundle({})})\n",
    "obj.p2.pursuer.grid = createGrid(gmin, gmax, N, pdDims)\n",
    "obj.p2.pursuer.center = np.array(([[3.5, 3.5, 4]]),dtype=np.float64).T\n",
    "\n",
    "# get player (evader) 4's state space\n",
    "gmin = np.array(([[3, 3, 2*pi/3]])).T\n",
    "gmax = np.array(([[3*pi, 3*pi, 4*pi]])).T\n",
    "obj.p2.evader.grid = createGrid(gmin, gmax, N, pdDims)\n",
    "obj.p2.evader.center = np.array(([[(3*pi-3)/2., (3*pi-3)/2., (4.0-2/3)*(pi/2.0)]]),dtype=np.float64).T\n",
    "\n"
   ]
  },
  {
   "cell_type": "code",
   "execution_count": null,
   "metadata": {},
   "outputs": [],
   "source": [
    "p1, p2, mode= obj.p1.pursuer, obj.p1.evader, 'capture'\n",
    "\n",
    "assert isfield(p1, 'center'), 'player I must have a center '\\\n",
    "                                'defined for its capture equation.'\n",
    "assert isfield(p2, 'center'), 'player II must have a center '\\\n",
    "                                'defined for its capture equation.'\n",
    "assert isfield(p1, 'grid'), 'player I must have its grid info'\n",
    "assert isfield(p2, 'grid'), 'player II must have its grid info'\n",
    "\n",
    "x1 = p1.grid.xs\n",
    "x2 = p2.grid.xs\n",
    "\n",
    "p1_dyn  = cell(3)\n",
    "p2_dyn = cell(3)\n",
    "\n",
    "p1_dyn[0] = obj.vp*np.cos(x1[2])\n",
    "p1_dyn[1] = obj.vp*np.sin(x1[2])\n",
    "p1_dyn[2] = obj.we\n",
    "\n",
    "p2_dyn[0] = obj.ve*np.cos(x2[2])\n",
    "p2_dyn[1] = obj.ve*np.sin(x2[2])\n",
    "p2_dyn[2] = obj.wp\n",
    "\n",
    "data_agent1 = np.zeros(p1.grid.shape)\n",
    "data_agent2 = np.zeros(p2.grid.shape)\n",
    "\n",
    "if isfield(p1, 'center') and numel(p1.center==1):\n",
    "    p1.center = p1.center*np.ones((p1.grid.dim,1), dtype=np.float64)\n",
    "if isfield(p2, 'center') and numel(p2.center==1):\n",
    "    p2.center = p2.center*np.ones((p2.grid.dim,1), dtype=np.float64)\n",
    "        "
   ]
  },
  {
   "cell_type": "markdown",
   "metadata": {},
   "source": [
    "### This for the Double Integrator"
   ]
  },
  {
   "cell_type": "code",
   "execution_count": 13,
   "metadata": {},
   "outputs": [],
   "source": [
    "import cupy as cp\n",
    "import numpy as np\n",
    "\n",
    "import sys\n",
    "from os.path import abspath, join\n",
    "sys.path.append(abspath(join('../..')))\n",
    "from LevelSetPy.Utilities import *\n",
    "from LevelSetPy.Grids import createGrid\n",
    "from LevelSetPy.Helper import postTimeStepTTR\n",
    "from LevelSetPy.Visualization import implicit_mesh\n",
    "from LevelSetPy.DynamicalSystems import DoubleIntegrator\n",
    "from LevelSetPy.SpatialDerivative import upwindFirstWENO5\n",
    "from LevelSetPy.ExplicitIntegration import artificialDissipationGLF\n",
    "from LevelSetPy.ExplicitIntegration.Integration import odeCFL3, odeCFLset\n",
    "from LevelSetPy.ExplicitIntegration.Term import termRestrictUpdate, termLaxFriedrichs\n"
   ]
  },
  {
   "cell_type": "code",
   "execution_count": 5,
   "metadata": {},
   "outputs": [],
   "source": [
    "gmin = np.array(([[-1, -1]]),dtype=np.float64).T\n",
    "gmax = np.array(([[1, 1]]),dtype=np.float64).T\n",
    "g = createGrid(gmin, gmax, 101, None)\n",
    "\n",
    "eps_targ = 1.0\n",
    "u_bound = 1\n",
    "target_rad = .2 #eps_targ * np.max(g.dx)\n",
    "dint = DoubleIntegrator(g, u_bound)\n",
    "value_time2reach = dint.min_time2reach() - target_rad\n",
    "value_time2reach = np.maximum(0, value_time2reach)"
   ]
  },
  {
   "cell_type": "code",
   "execution_count": 6,
   "metadata": {},
   "outputs": [],
   "source": [
    "above_curve=dint.grid.xs[0]>dint.Gamma\n",
    "below_curve=dint.grid.xs[0]<dint.Gamma\n",
    "on_curve=dint.grid.xs[0]==dint.Gamma\n",
    "\n",
    "reach_term1  = (dint.grid.xs[1] + np.emath.sqrt(4*dint.grid.xs[0] + \\\n",
    "                         2 * dint.grid.xs[1]**2))*above_curve\n",
    "reach_term2 =  (-dint.grid.xs[1]+np.emath.sqrt(-4*dint.grid.xs[0] + \\\n",
    "                2 * dint.grid.xs[1]**2) )*below_curve\n",
    "reach_term3 = np.abs(dint.grid.xs[1]) * on_curve\n",
    "reach_time = reach_term1.real + reach_term2.real + reach_term3"
   ]
  },
  {
   "cell_type": "code",
   "execution_count": 16,
   "metadata": {},
   "outputs": [
    {
     "name": "stdout",
     "output_type": "stream",
     "text": [
      "dataIn\n",
      " [[ 1  2  3  4]\n",
      " [ 5  6  7  8]\n",
      " [ 9 10 11 12]]\n",
      "\n",
      "[[2]]\n"
     ]
    }
   ],
   "source": [
    "dataIn = cp.arange(1, 13).reshape(3, 4)\n",
    "print('dataIn\\n', dataIn)\n",
    "indices =[ [3], [5]]\n",
    "print()\n",
    "print(dataIn[cp.ix_(*indices)])"
   ]
  },
  {
   "cell_type": "markdown",
   "metadata": {},
   "source": [
    "### Multiple vehicles"
   ]
  },
  {
   "cell_type": "code",
   "execution_count": null,
   "metadata": {},
   "outputs": [],
   "source": [
    "\n",
    "obj = Bundle({})\n",
    "\n",
    "\n",
    "pdDims = 2; N = 100\n",
    "v, w = +1, +1\n",
    "obj.ve, obj.vp = v, v\n",
    "obj.we, obj.wp = -w, w\n",
    "\n",
    "\n",
    "# get player (pursuer) 1's state space\n",
    "gmin = np.array(([[-5, -5, -pi]])).T\n",
    "gmax = np.array(([[0, 0, pi]])).T\n",
    "obj.p1 = Bundle({'pursuer':Bundle({}), 'evader':Bundle({})})\n",
    "obj.p1.pursuer.grid = createGrid(gmin, gmax, N, pdDims)\n",
    "obj.p1.pursuer.center = np.array(([[-2.5, -2.5, 0]]),dtype=np.float64).T\n",
    "obj.p1.pursuer.radius = 0.5\n",
    "obj.p1.pursuer.basis = np.array(([[1,0,0]]))\n",
    "\n",
    "# get player (evader) 2's state space\n",
    "gmin = np.array(([[0, 0, pi]])).T\n",
    "gmax = np.array(([[5, 5, 3*pi]])).T\n",
    "obj.p1.evader.grid = createGrid(gmin, gmax, N, pdDims)\n",
    "obj.p1.evader.center = np.array(([[2.5, 2.5, 2*pi]]),dtype=np.float64).T\n",
    "obj.p1.evader.radius = .5\n",
    "obj.p1.evader.basis = np.array(([[0,1,0]]))\n",
    "\n",
    "# get player (pursuer) 3's state space\n",
    "gmin = np.array(([[5, 5, 3*pi]])).T\n",
    "gmax = np.array(([[10, 10, 5*pi]])).T\n",
    "obj.p2 = Bundle({'pursuer':Bundle({}), 'evader':Bundle({})})\n",
    "obj.p2.pursuer.grid = createGrid(gmin, gmax, N, pdDims)\n",
    "obj.p2.pursuer.center = np.array(([[7.5, 7.5, 4*pi]]),dtype=np.float64).T\n",
    "obj.p2.pursuer.radius = .5\n",
    "obj.p2.pursuer.basis = np.array(([[0,0,1]]))\n",
    "\n",
    "# get player (evader) 4's state space\n",
    "gmin = np.array(([[10, 10, 5*pi]])).T\n",
    "gmax = np.array(([[15, 15, 7*pi]])).T\n",
    "obj.p2.evader.grid = createGrid(gmin, gmax, N, pdDims)\n",
    "obj.p2.evader.center = np.array(([[12.5, 12.5, 6*pi]]),dtype=np.float64).T\n",
    "obj.p2.evader.radius = .5\n",
    "obj.p2.evader.basis = np.array(([[0,0,0,1]]))\n",
    "\n",
    "# Full grid\n",
    "gmin = np.array(([[-5, -5, -pi]])).T\n",
    "gmax = np.array(([[15, 15, 7*pi]])).T\n",
    "obj.full_grid = createGrid(gmin, gmax, N, pdDims)\n"
   ]
  },
  {
   "cell_type": "code",
   "execution_count": null,
   "metadata": {},
   "outputs": [],
   "source": [
    "obj.p1.pursuer.xdot = dubins_absolute(obj, obj.p1.pursuer)\n",
    "obj.p1.evader.xdot  = dubins_absolute(obj, obj.p1.evader)\n",
    "obj.p2.pursuer.xdot = dubins_absolute(obj, obj.p2.pursuer)\n",
    "obj.p2.evader.xdot  = dubins_absolute(obj, obj.p2.evader)\n",
    " \n",
    "value_func = shapeRectangleByCorners(obj.full_grid, lower=-3, upper=13)"
   ]
  },
  {
   "cell_type": "code",
   "execution_count": null,
   "metadata": {},
   "outputs": [],
   "source": [
    "# we now have a large value function, decompose the value w.r.t to the\n",
    "# basis of the four vehicles to get its correspondiung decomposition into diff bases"
   ]
  },
  {
   "cell_type": "code",
   "execution_count": null,
   "metadata": {},
   "outputs": [],
   "source": [
    "# compose rhe full grid as a tensor of all players\n",
    "obj.grid_compose_vs = obj.p1.pursuer.grid.vs + obj.p1.evader.grid.vs + \\\n",
    "                      obj.p2.pursuer.grid.vs + obj.p2.evader.grid.vs\n",
    "print([x.shape for x in obj.grid_compose_vs])\n",
    "\n",
    "# too big\n",
    "#FullTensor = np.meshgrid(*obj.grid_compose_vs, indexing='ij')"
   ]
  },
  {
   "cell_type": "code",
   "execution_count": null,
   "metadata": {},
   "outputs": [],
   "source": [
    "# direction cosine of p1.pursuer w.r.t p1.evader\n",
    "obj.p1.pursuer.basis_p1evader = np.dot(obj.p1.pursuer.basis.T, obj.p1.evader.basis)"
   ]
  },
  {
   "cell_type": "code",
   "execution_count": null,
   "metadata": {},
   "outputs": [],
   "source": [
    "p1_pursuer = np.asarray(obj.p1.pursuer.grid.xs).transpose([1,2,3,0])\n",
    "p1_evader = np.asarray(obj.p1.evader.grid.xs).transpose([1,2,3,0])\n",
    "p2_pursuer = np.asarray(obj.p2.pursuer.grid.xs).transpose([1,2,3,0])\n",
    "p2_evader = np.asarray(obj.p2.evader.grid.xs).transpose([1,2,3,0])\n",
    "FT = np.concatenate((p1_pursuer, p1_evader), )\n",
    "FT.shape\n",
    "\n",
    "# use HOSVD to compute optimal rotation vector of one agent's state space to another's state space\n",
    "\n",
    "def kabsch(P, Q):\n",
    "    \"\"\"\n",
    "    Using the Kabsch algorithm with two sets of paired point P and Q, centered\n",
    "    around the centroid. Each vector set is represented as an NxD\n",
    "    matrix, where D is the the dimension of the space.\n",
    "    The algorithm works in three steps:\n",
    "    - a centroid translation of P and Q (assumed done before this function\n",
    "      call)\n",
    "    - the computation of a covariance matrix C\n",
    "    - computation of the optimal rotation matrix U\n",
    "    For more info see http://en.wikipedia.org/wiki/Kabsch_algorithm\n",
    "    Parameters\n",
    "    ----------\n",
    "    P : array\n",
    "        (N,D) matrix, where N is points and D is dimension.\n",
    "    Q : array\n",
    "        (N,D) matrix, where N is points and D is dimension.\n",
    "    Returns\n",
    "    -------\n",
    "    U : matrix\n",
    "        Rotation matrix (D,D)\n",
    "    \"\"\"\n",
    "\n",
    "    # Computation of the covariance matrix\n",
    "    C = np.dot(np.transpose(P), Q)\n",
    "\n",
    "    # Computation of the optimal rotation matrix\n",
    "    # This can be done using singular value decomposition (SVD)\n",
    "    # Getting the sign of the det(V)*(W) to decide\n",
    "    # whether we need to correct our rotation matrix to ensure a\n",
    "    # right-handed coordinate system.\n",
    "    # And finally calculating the optimal rotation matrix U\n",
    "    # see http://en.wikipedia.org/wiki/Kabsch_algorithm\n",
    "    V, S, W = np.linalg.svd(C)\n",
    "    d = (np.linalg.det(V) * np.linalg.det(W)) < 0.0\n",
    "\n",
    "    if d:\n",
    "        S[-1] = -S[-1]\n",
    "        V[:, -1] = -V[:, -1]\n",
    "\n",
    "    # Create Rotation matrix U\n",
    "    U = np.dot(V, W)\n",
    "\n",
    "    return U\n"
   ]
  },
  {
   "cell_type": "code",
   "execution_count": 72,
   "metadata": {},
   "outputs": [
    {
     "ename": "MemoryError",
     "evalue": "Unable to allocate 224. GiB for an array with shape (3, 100, 100, 100, 100, 100) and data type float64",
     "output_type": "error",
     "traceback": [
      "\u001b[0;31m---------------------------------------------------------------------------\u001b[0m",
      "\u001b[0;31mMemoryError\u001b[0m                               Traceback (most recent call last)",
      "\u001b[0;32m<ipython-input-72-7e020ed43811>\u001b[0m in \u001b[0;36m<module>\u001b[0;34m\u001b[0m\n\u001b[1;32m      9\u001b[0m \u001b[0;34m\u001b[0m\u001b[0m\n\u001b[1;32m     10\u001b[0m \u001b[0;31m# get the optimal rotation matrices between the grid points\u001b[0m\u001b[0;34m\u001b[0m\u001b[0;34m\u001b[0m\u001b[0;34m\u001b[0m\u001b[0m\n\u001b[0;32m---> 11\u001b[0;31m \u001b[0mU\u001b[0m \u001b[0;34m=\u001b[0m \u001b[0mrmsd\u001b[0m\u001b[0;34m.\u001b[0m\u001b[0mkabsch\u001b[0m\u001b[0;34m(\u001b[0m\u001b[0mp1_pursuer\u001b[0m\u001b[0;34m,\u001b[0m \u001b[0mp1_evader\u001b[0m\u001b[0;34m)\u001b[0m\u001b[0;34m\u001b[0m\u001b[0;34m\u001b[0m\u001b[0m\n\u001b[0m\u001b[1;32m     12\u001b[0m \u001b[0mp1_pursuer_in_evader\u001b[0m \u001b[0;34m=\u001b[0m \u001b[0mnp\u001b[0m\u001b[0;34m.\u001b[0m\u001b[0mdot\u001b[0m\u001b[0;34m(\u001b[0m\u001b[0mp1_pursuer\u001b[0m\u001b[0;34m,\u001b[0m \u001b[0mU\u001b[0m\u001b[0;34m)\u001b[0m\u001b[0;34m\u001b[0m\u001b[0;34m\u001b[0m\u001b[0m\n",
      "\u001b[0;32m~/.conda/envs/37/lib/python3.7/site-packages/rmsd/calculate_rmsd.py\u001b[0m in \u001b[0;36mkabsch\u001b[0;34m(P, Q)\u001b[0m\n\u001b[1;32m    480\u001b[0m     \u001b[0;31m# And finally calculating the optimal rotation matrix U\u001b[0m\u001b[0;34m\u001b[0m\u001b[0;34m\u001b[0m\u001b[0;34m\u001b[0m\u001b[0m\n\u001b[1;32m    481\u001b[0m     \u001b[0;31m# see http://en.wikipedia.org/wiki/Kabsch_algorithm\u001b[0m\u001b[0;34m\u001b[0m\u001b[0;34m\u001b[0m\u001b[0;34m\u001b[0m\u001b[0m\n\u001b[0;32m--> 482\u001b[0;31m     \u001b[0mV\u001b[0m\u001b[0;34m,\u001b[0m \u001b[0mS\u001b[0m\u001b[0;34m,\u001b[0m \u001b[0mW\u001b[0m \u001b[0;34m=\u001b[0m \u001b[0mnp\u001b[0m\u001b[0;34m.\u001b[0m\u001b[0mlinalg\u001b[0m\u001b[0;34m.\u001b[0m\u001b[0msvd\u001b[0m\u001b[0;34m(\u001b[0m\u001b[0mC\u001b[0m\u001b[0;34m)\u001b[0m\u001b[0;34m\u001b[0m\u001b[0;34m\u001b[0m\u001b[0m\n\u001b[0m\u001b[1;32m    483\u001b[0m     \u001b[0md\u001b[0m \u001b[0;34m=\u001b[0m \u001b[0;34m(\u001b[0m\u001b[0mnp\u001b[0m\u001b[0;34m.\u001b[0m\u001b[0mlinalg\u001b[0m\u001b[0;34m.\u001b[0m\u001b[0mdet\u001b[0m\u001b[0;34m(\u001b[0m\u001b[0mV\u001b[0m\u001b[0;34m)\u001b[0m \u001b[0;34m*\u001b[0m \u001b[0mnp\u001b[0m\u001b[0;34m.\u001b[0m\u001b[0mlinalg\u001b[0m\u001b[0;34m.\u001b[0m\u001b[0mdet\u001b[0m\u001b[0;34m(\u001b[0m\u001b[0mW\u001b[0m\u001b[0;34m)\u001b[0m\u001b[0;34m)\u001b[0m \u001b[0;34m<\u001b[0m \u001b[0;36m0.0\u001b[0m\u001b[0;34m\u001b[0m\u001b[0;34m\u001b[0m\u001b[0m\n\u001b[1;32m    484\u001b[0m \u001b[0;34m\u001b[0m\u001b[0m\n",
      "\u001b[0;32m<__array_function__ internals>\u001b[0m in \u001b[0;36msvd\u001b[0;34m(*args, **kwargs)\u001b[0m\n",
      "\u001b[0;32m~/.conda/envs/37/lib/python3.7/site-packages/numpy/linalg/linalg.py\u001b[0m in \u001b[0;36msvd\u001b[0;34m(a, full_matrices, compute_uv, hermitian)\u001b[0m\n\u001b[1;32m   1658\u001b[0m \u001b[0;34m\u001b[0m\u001b[0m\n\u001b[1;32m   1659\u001b[0m         \u001b[0msignature\u001b[0m \u001b[0;34m=\u001b[0m \u001b[0;34m'D->DdD'\u001b[0m \u001b[0;32mif\u001b[0m \u001b[0misComplexType\u001b[0m\u001b[0;34m(\u001b[0m\u001b[0mt\u001b[0m\u001b[0;34m)\u001b[0m \u001b[0;32melse\u001b[0m \u001b[0;34m'd->ddd'\u001b[0m\u001b[0;34m\u001b[0m\u001b[0;34m\u001b[0m\u001b[0m\n\u001b[0;32m-> 1660\u001b[0;31m         \u001b[0mu\u001b[0m\u001b[0;34m,\u001b[0m \u001b[0ms\u001b[0m\u001b[0;34m,\u001b[0m \u001b[0mvh\u001b[0m \u001b[0;34m=\u001b[0m \u001b[0mgufunc\u001b[0m\u001b[0;34m(\u001b[0m\u001b[0ma\u001b[0m\u001b[0;34m,\u001b[0m \u001b[0msignature\u001b[0m\u001b[0;34m=\u001b[0m\u001b[0msignature\u001b[0m\u001b[0;34m,\u001b[0m \u001b[0mextobj\u001b[0m\u001b[0;34m=\u001b[0m\u001b[0mextobj\u001b[0m\u001b[0;34m)\u001b[0m\u001b[0;34m\u001b[0m\u001b[0;34m\u001b[0m\u001b[0m\n\u001b[0m\u001b[1;32m   1661\u001b[0m         \u001b[0mu\u001b[0m \u001b[0;34m=\u001b[0m \u001b[0mu\u001b[0m\u001b[0;34m.\u001b[0m\u001b[0mastype\u001b[0m\u001b[0;34m(\u001b[0m\u001b[0mresult_t\u001b[0m\u001b[0;34m,\u001b[0m \u001b[0mcopy\u001b[0m\u001b[0;34m=\u001b[0m\u001b[0;32mFalse\u001b[0m\u001b[0;34m)\u001b[0m\u001b[0;34m\u001b[0m\u001b[0;34m\u001b[0m\u001b[0m\n\u001b[1;32m   1662\u001b[0m         \u001b[0ms\u001b[0m \u001b[0;34m=\u001b[0m \u001b[0ms\u001b[0m\u001b[0;34m.\u001b[0m\u001b[0mastype\u001b[0m\u001b[0;34m(\u001b[0m\u001b[0m_realType\u001b[0m\u001b[0;34m(\u001b[0m\u001b[0mresult_t\u001b[0m\u001b[0;34m)\u001b[0m\u001b[0;34m,\u001b[0m \u001b[0mcopy\u001b[0m\u001b[0;34m=\u001b[0m\u001b[0;32mFalse\u001b[0m\u001b[0;34m)\u001b[0m\u001b[0;34m\u001b[0m\u001b[0;34m\u001b[0m\u001b[0m\n",
      "\u001b[0;31mMemoryError\u001b[0m: Unable to allocate 224. GiB for an array with shape (3, 100, 100, 100, 100, 100) and data type float64"
     ]
    }
   ],
   "source": [
    "import rmsd\n",
    "\n",
    "# translate p1_pursuer into p1_evader's state space\n",
    "p1_pursuer -= p2_evader\n",
    "\n",
    "# transform the state space pf p1 pursuer into p1 evader\n",
    "p1_pursuer-=rmsd.centroid(p1_pursuer)\n",
    "p1_evader-=rmsd.centroid(p1_evader)\n",
    "\n",
    "# get the optimal rotation matrices between the grid points\n",
    "U = rmsd.kabsch(p1_pursuer, p1_evader)\n",
    "p1_pursuer_in_evader = np.dot(p1_pursuer, U)\n"
   ]
  },
  {
   "cell_type": "code",
   "execution_count": null,
   "metadata": {},
   "outputs": [],
   "source": []
  }
 ],
 "metadata": {
  "interpreter": {
   "hash": "a47cc16acb1e9503f067273f1dc5f16922188ba58502bb3ebce30741f9e7611a"
  },
  "kernelspec": {
   "display_name": "Python 3.7.10 64-bit ('37': conda)",
   "language": "python",
   "name": "python3"
  },
  "language_info": {
   "codemirror_mode": {
    "name": "ipython",
    "version": 3
   },
   "file_extension": ".py",
   "mimetype": "text/x-python",
   "name": "python",
   "nbconvert_exporter": "python",
   "pygments_lexer": "ipython3",
   "version": "3.7.10"
  },
  "orig_nbformat": 4
 },
 "nbformat": 4,
 "nbformat_minor": 2
}
