{
 "cells": [
  {
   "cell_type": "code",
   "execution_count": 1,
   "metadata": {},
   "outputs": [],
   "source": [
    "import sys\n",
    "import random\n",
    "import hashlib\n",
    "import numpy as np\n",
    "from os.path import abspath, join\n",
    "sys.path.append(abspath(join('../..')))\n",
    "sys.path.append(abspath(join('..')))\n",
    "\n",
    "from math import pi\n",
    "\n",
    "from LevelSetPy.Utilities import *\n",
    "from LevelSetPy.BoundaryCondition import *\n",
    "from LevelSetPy.Visualization import *\n",
    "# from LevelSetPy.DynamicalSystems import *\n",
    "from LevelSetPy.Grids import *\n",
    "from LevelSetPy.DynamicalSystems import *\n",
    "from LevelSetPy.InitialConditions import *\n",
    "from LevelSetPy.SpatialDerivative import *\n",
    "from LevelSetPy.ExplicitIntegration.Dissipation import *\n",
    "\n",
    "import matplotlib.pyplot as plt\n",
    "import matplotlib.gridspec as gridspec"
   ]
  },
  {
   "cell_type": "code",
   "execution_count": 2,
   "metadata": {},
   "outputs": [],
   "source": [
    "# 'we will first create the grids coverage for the respective birds'\n",
    "# # for every agent, create the grid bounds\n",
    "# grid_mins = [[-1, -1, -np.pi]]\n",
    "# grid_maxs = [[1, 1, np.pi]]   \n",
    "# grids = flockGrid(grid_mins, grid_maxs, dx=.1, N=101)\n",
    "# ref_bird = BirdSingle(grids[0], 1, 1, None, \\\n",
    "#                     random.random(), label=0) \n",
    "# print(ref_bird.position())"
   ]
  },
  {
   "cell_type": "code",
   "execution_count": 39,
   "metadata": {},
   "outputs": [],
   "source": [
    "'we will first create the grids coverage for the respective birds'\n",
    "# for every agent, create the grid bounds\n",
    "grid_min = np.asarray([[-1, -1, -np.pi]]).T\n",
    "grid_max = np.asarray([[1, 1, np.pi] ]).T\n",
    "grid = createGrid(grid_min, grid_max, 101, 2)\n",
    "x_init = np.asarray([[0, 0, 0]]).T  \n",
    "\n",
    "num_agents=7\n",
    "\n",
    "\n",
    "H = .1\n",
    "H_STEP = .05\n",
    "neigh_rad = 0.3\n",
    "INIT_XYZS = np.array([[neigh_rad*np.cos((i/6)*2*np.pi+np.pi/2), neigh_rad*np.sin((i/6)*2*np.pi+np.pi/2)-neigh_rad, H+i*H_STEP] for i in range(num_agents)])\n",
    "INIT_RPYS = np.array([[0, 0,  i * (np.pi/2)/num_agents] for i in range(num_agents)])\n",
    "\n",
    "vehicles = [BirdSingle(grid, 1, 1, np.expand_dims(INIT_XYZS[i], 1), \\\n",
    "                     np.expand_dims(INIT_RPYS[i], 1), random.random(), \\\n",
    "                     center=np.zeros((3,1)), neigh_rad=3, \\\n",
    "                     label=i+1) for i in range(num_agents)]                \n",
    "flock = BirdFlock(grid, vehicles, label=1, reach_rad=.2, avoid_rad=.3)\n",
    "               "
   ]
  },
  {
   "cell_type": "markdown",
   "metadata": {},
   "source": [
    "### Compute the target set for this flock"
   ]
  },
  {
   "cell_type": "code",
   "execution_count": 26,
   "metadata": {},
   "outputs": [
    {
     "name": "stdout",
     "output_type": "stream",
     "text": [
      "Agent: 1 | Neighbors: 0 || valence: 0. Agent: 2 | Neighbors: 0 || valence: 0.\n",
      "Agent: 1 | Neighbors: 0 || valence: 0. Agent: 3 | Neighbors: 0 || valence: 0.\n",
      "Agent: 1 | Neighbors: 0 || valence: 0. Agent: 4 | Neighbors: 0 || valence: 0.\n",
      "Agent: 1 | Neighbors: 0 || valence: 0. Agent: 5 | Neighbors: 0 || valence: 0.\n",
      "Agent: 1 | Neighbors: 0 || valence: 0. Agent: 6 | Neighbors: 0 || valence: 0.\n",
      "Agent: 1 | Neighbors: 0 || valence: 0. Agent: 7 | Neighbors: 0 || valence: 0.\n",
      "Agent: 2 | Neighbors: 0 || valence: 0. Agent: 3 | Neighbors: 0 || valence: 0.\n",
      "Agent: 2 | Neighbors: 0 || valence: 0. Agent: 4 | Neighbors: 0 || valence: 0.\n",
      "Agent: 2 | Neighbors: 0 || valence: 0. Agent: 5 | Neighbors: 0 || valence: 0.\n",
      "Agent: 2 | Neighbors: 0 || valence: 0. Agent: 6 | Neighbors: 0 || valence: 0.\n",
      "Agent: 2 | Neighbors: 0 || valence: 0. Agent: 7 | Neighbors: 0 || valence: 0.\n",
      "Agent: 3 | Neighbors: 0 || valence: 0. Agent: 4 | Neighbors: 0 || valence: 0.\n",
      "Agent: 3 | Neighbors: 0 || valence: 0. Agent: 5 | Neighbors: 0 || valence: 0.\n",
      "Agent: 3 | Neighbors: 0 || valence: 0. Agent: 6 | Neighbors: 0 || valence: 0.\n",
      "Agent: 3 | Neighbors: 0 || valence: 0. Agent: 7 | Neighbors: 0 || valence: 0.\n",
      "Agent: 4 | Neighbors: 0 || valence: 0. Agent: 5 | Neighbors: 0 || valence: 0.\n",
      "Agent: 4 | Neighbors: 0 || valence: 0. Agent: 6 | Neighbors: 0 || valence: 0.\n",
      "Agent: 4 | Neighbors: 0 || valence: 0. Agent: 7 | Neighbors: 0 || valence: 0.\n",
      "Agent: 5 | Neighbors: 0 || valence: 0. Agent: 6 | Neighbors: 0 || valence: 0.\n",
      "Agent: 5 | Neighbors: 0 || valence: 0. Agent: 7 | Neighbors: 0 || valence: 0.\n",
      "Agent: 6 | Neighbors: 0 || valence: 0. Agent: 7 | Neighbors: 0 || valence: 0.\n"
     ]
    }
   ],
   "source": [
    "# avoid set: all birds must avoid one another\n",
    "# update neighbors for each agent4\n",
    "import numpy.linalg as la\n",
    "from itertools import combinations as combo\n",
    "\n",
    "\n",
    "for a,b in combo(flock.vehicles, 2):\n",
    "    print(a, b)\n",
    "    # if np.abs(a.label - b.label) < a.neigh_rad:\n",
    "    #     a.update_neighbor(b)\n"
   ]
  },
  {
   "cell_type": "code",
   "execution_count": 42,
   "metadata": {},
   "outputs": [],
   "source": [
    "def compare_neighbor(agent1, agent2):\n",
    "    if np.abs(agent1.label - agent2.label) < agent1.neigh_rad:\n",
    "        agent1.update_neighbor(agent2)\n",
    "\n",
    "for i in range(num_agents):\n",
    "    # look to the right and update neighbors\n",
    "    for j in range(i+1,num_agents):        \n",
    "        compare_neighbor(vehicles[i], vehicles[j])\n",
    "    \n",
    "    # look to the left and update neighbors\n",
    "    for j in range(i-1, -1, -1):\n",
    "        compare_neighbor(vehicles[i], vehicles[j])\n"
   ]
  },
  {
   "cell_type": "code",
   "execution_count": 47,
   "metadata": {},
   "outputs": [
    {
     "name": "stdout",
     "output_type": "stream",
     "text": [
      "72\n",
      "72\n",
      "72\n",
      "72\n",
      "72\n",
      "72\n",
      "72\n"
     ]
    }
   ],
   "source": [
    "for veh in flock.vehicles:\n",
    "    print(veh.neighbors.__sizeof__())"
   ]
  },
  {
   "cell_type": "code",
   "execution_count": 49,
   "metadata": {},
   "outputs": [
    {
     "data": {
      "text/plain": [
       "40"
      ]
     },
     "execution_count": 49,
     "metadata": {},
     "output_type": "execute_result"
    }
   ],
   "source": [
    "a = []\n",
    "a.__sizeof__()"
   ]
  },
  {
   "cell_type": "code",
   "execution_count": 5,
   "metadata": {},
   "outputs": [
    {
     "ename": "AttributeError",
     "evalue": "'BirdFlock' object has no attribute 'flock_payoff'",
     "output_type": "error",
     "traceback": [
      "\u001b[0;31m---------------------------------------------------------------------------\u001b[0m",
      "\u001b[0;31mAttributeError\u001b[0m                            Traceback (most recent call last)",
      "\u001b[0;32m/tmp/ipykernel_22980/3323627516.py\u001b[0m in \u001b[0;36m<module>\u001b[0;34m\u001b[0m\n\u001b[0;32m----> 1\u001b[0;31m \u001b[0mtarg\u001b[0m \u001b[0;34m=\u001b[0m \u001b[0mflock\u001b[0m\u001b[0;34m.\u001b[0m\u001b[0mflock_payoff\u001b[0m\u001b[0;34m\u001b[0m\u001b[0;34m\u001b[0m\u001b[0m\n\u001b[0m\u001b[1;32m      2\u001b[0m \u001b[0mspacing\u001b[0m\u001b[0;34m=\u001b[0m\u001b[0mtuple\u001b[0m\u001b[0;34m(\u001b[0m\u001b[0mflock\u001b[0m\u001b[0;34m.\u001b[0m\u001b[0mgrid\u001b[0m\u001b[0;34m[\u001b[0m\u001b[0;36m0\u001b[0m\u001b[0;34m]\u001b[0m\u001b[0;34m.\u001b[0m\u001b[0mdx\u001b[0m\u001b[0;34m.\u001b[0m\u001b[0mflatten\u001b[0m\u001b[0;34m(\u001b[0m\u001b[0;34m)\u001b[0m\u001b[0;34m.\u001b[0m\u001b[0mtolist\u001b[0m\u001b[0;34m(\u001b[0m\u001b[0;34m)\u001b[0m\u001b[0;34m)\u001b[0m\u001b[0;34m\u001b[0m\u001b[0;34m\u001b[0m\u001b[0m\n\u001b[1;32m      3\u001b[0m \u001b[0;34m\u001b[0m\u001b[0m\n\u001b[1;32m      4\u001b[0m \u001b[0;31m# this zero level set is invisible. Target set is probs incorrect\u001b[0m\u001b[0;34m\u001b[0m\u001b[0;34m\u001b[0m\u001b[0;34m\u001b[0m\u001b[0m\n\u001b[1;32m      5\u001b[0m targmesh = implicit_mesh(targ, level=None, \\\n",
      "\u001b[0;31mAttributeError\u001b[0m: 'BirdFlock' object has no attribute 'flock_payoff'"
     ]
    }
   ],
   "source": [
    "\n",
    "targ = flock.flock_payoff\n",
    "spacing=tuple(flock.grid[0].dx.flatten().tolist())\n",
    "\n",
    "# this zero level set is invisible. Target set is probs incorrect\n",
    "targmesh = implicit_mesh(targ, level=None, \\\n",
    "                         spacing=spacing, \\\n",
    "                         edge_color='b', face_color='b')"
   ]
  },
  {
   "cell_type": "markdown",
   "metadata": {},
   "source": [
    "This one for target set involving one evader and multiple pursuers. Any pursuer can capture the evader."
   ]
  },
  {
   "cell_type": "code",
   "execution_count": null,
   "metadata": {},
   "outputs": [],
   "source": [
    "evader = flock.vehicles[0]\n",
    "target_set = np.zeros((flock.N-1,)+(evader.grid.shape), dtype=np.float64)\n",
    "\n",
    "#pursuer and evader targets\n",
    "evader_set = shapeCylinder(evader.grid, 2, radius=evader.neigh_rad) \n",
    "pursuer_sets = [shapeCylinder(pursuer.grid, 2, radius=pursuer.neigh_rad) for pursuer in flock.vehicles[1:]]\n",
    "\n",
    "# define capture targets\n",
    "capture = evader_set\n",
    "for i in range(len(pursuer_sets)):\n",
    "    capture = shapeUnion(pursuer_sets[i], capture)\n",
    "\n",
    "# define avoid sets: every pursuer must avoid one another\n",
    "avoid_set = np.zeros((evader.grid.shape), dtype=np.float64)\n",
    "for i in range(len(pursuer_sets)):\n",
    "    avoid_set = shapeUnion(pursuer_sets[i], capture)\n",
    "# # Target Set 1: Every pursuer must capture the evader\n",
    "# idx=0\n",
    "# for pursuer in flock.vehicles[1:]:\n",
    "#     for i in range(pursuer.grid.dim):\n",
    "#         'Evader captured by this pursuer: sqrt([x_1^2 - x_1^2]+[x_2^2-x_2^2])'\n",
    "#         if i != pursuer.axis_align:\n",
    "#             \"\"\"\n",
    "#                 Note the use of abs to avoid numpy runtime warnings.\n",
    "#                 Makes all the more sense since the sdf is +ve within the interface\n",
    "#             \"\"\"\n",
    "#             target_set[idx] += np.abs(pursuer.grid.xs[i]**2 - evader.grid.xs[i]**2)\n",
    "#     target_set[idx] = np.sqrt(target_set[idx])\n",
    "#     idx += 1\n",
    "\n",
    "# # define avoid sets: every pursuer must avoid one another"
   ]
  },
  {
   "cell_type": "code",
   "execution_count": null,
   "metadata": {},
   "outputs": [],
   "source": [
    "spacing=tuple(evader.grid.dx.flatten().tolist())\n",
    "\n",
    "targmesh = implicit_mesh(capture, level=0, \\\n",
    "                         spacing=spacing, \\\n",
    "                         edge_color='k', face_color='r')\n",
    "    \n",
    "# visualize the BRAT set for this number of agents\n",
    "fig = plt.figure(figsize=(16,9))\n",
    "gs  = gridspec.GridSpec(1, 1, fig)\n",
    "ax = plt.subplot(gs[0], projection='3d')\n",
    "ax.add_collection3d(targmesh)\n",
    "ax.set_xlim(.5, 2.1)\n",
    "ax.set_ylim(.5, 2.1)\n",
    "ax.set_zlim(-.2, 6.5)\n",
    "ax.view_init(azim=-45, elev=30)\n",
    "plt.show()"
   ]
  },
  {
   "cell_type": "markdown",
   "metadata": {},
   "source": [
    "This one for target set involving leaderless coordination. Every agent within the flock must maintain a metric distance from one the other. There is a repulsive force between each agent and a predator."
   ]
  },
  {
   "cell_type": "code",
   "execution_count": null,
   "metadata": {},
   "outputs": [],
   "source": [
    "flock = BirdFlock(grids, num_agents, grid_nodes=101)\n",
    "target_set = np.zeros((flock.N,)+(grids[0].shape), dtype=np.float64)\n",
    "\n",
    "# print(target_set.shape)\n",
    "#pursuer and evader targets\n",
    "agents_targets = [shapeCylinder(agent.grid, 2, radius=agent.neigh_rad) for agent in flock.vehicles]\n",
    "\n",
    "# define avoid targets: neighbors of agent i must be within a fixed metric r_c of i\n",
    "# for idx in range(len(agents_targets)):\n",
    "#     this_agent = agents_targets.vehicles[idx]\n",
    "#     this_agent = np.maximum(this_agent, agents_targets[idx])\n",
    "\n",
    "\n",
    "# Any pursuer captures the evader\n",
    "'min(sqrt(\\{ [x_1^2 - x_1^2]+[x_2^2-x_2^2]) \\})'\n",
    "capture = target_set[0]\n",
    "for i in range(1, len(target_set)):\n",
    "    capture = np.minimum(target_set[i], capture)\n",
    "    #capture = np.maximum(capture, target_set[i]) \n",
    "#capture -= evader.neigh_rad\n",
    "# capture = evader_set\n",
    "# for i in range(len(pursuer_sets)):\n",
    "#     capture = shapeUnion(pursuer_sets[i], capture)\n",
    "\n",
    "# define avoid sets: every pursuer must avoid one another\n",
    "\n",
    "# # Target Set 1: Every pursuer must capture the evader\n",
    "# idx=0\n",
    "# for pursuer in flock.vehicles[1:]:\n",
    "#     for i in range(pursuer.grid.dim):\n",
    "#         'Evader captured by this pursuer: sqrt([x_1^2 - x_1^2]+[x_2^2-x_2^2])'\n",
    "#         if i != pursuer.axis_align:\n",
    "#             \"\"\"\n",
    "#                 Note the use of abs to avoid numpy runtime warnings.\n",
    "#                 Makes all the more sense since the sdf is +ve within the interface\n",
    "#             \"\"\"\n",
    "#             target_set[idx] += np.abs(pursuer.grid.xs[i]**2 - evader.grid.xs[i]**2)\n",
    "#     target_set[idx] = np.sqrt(target_set[idx])\n",
    "#     idx += 1\n",
    "\n",
    "# # define avoid sets: every pursuer must avoid one another"
   ]
  },
  {
   "cell_type": "code",
   "execution_count": null,
   "metadata": {},
   "outputs": [],
   "source": [
    "spacing=tuple(evader.grid.dx.flatten().tolist())\n",
    "\n",
    "targmesh = implicit_mesh(capture, level=0, \\\n",
    "                         spacing=spacing, \\\n",
    "                         edge_color=None, face_color='r')\n",
    "    \n",
    "# visualize the BRAT set for this number of agents\n",
    "import matplotlib.gridspec as gridspec\n",
    "fig = plt.figure(figsize=(16,9))\n",
    "gs  = gridspec.GridSpec(1, 1, fig)\n",
    "ax = plt.subplot(gs[0], projection='3d')\n",
    "ax.add_collection3d(targmesh)\n",
    "ax.set_xlim(-.25, 1.4)\n",
    "ax.set_ylim(0, 1.4)\n",
    "ax.set_zlim(-2.2, 9.5)\n",
    "ax.view_init(azim=-45, elev=30)\n",
    "plt.show()"
   ]
  },
  {
   "cell_type": "code",
   "execution_count": null,
   "metadata": {},
   "outputs": [],
   "source": [
    "# it feels like we also need create the case for when birds in a flock have a sparse interaction."
   ]
  },
  {
   "cell_type": "code",
   "execution_count": null,
   "metadata": {},
   "outputs": [],
   "source": [
    "# compute nearest neigbors on a grid"
   ]
  },
  {
   "cell_type": "code",
   "execution_count": null,
   "metadata": {},
   "outputs": [],
   "source": [
    "# Now create classes for flocks splitting, flocks contraction, and flocks expansion."
   ]
  },
  {
   "cell_type": "code",
   "execution_count": null,
   "metadata": {},
   "outputs": [],
   "source": [
    "dubins_flock"
   ]
  },
  {
   "cell_type": "code",
   "execution_count": null,
   "metadata": {},
   "outputs": [],
   "source": [
    "\n",
    "brt = np.load(\"../data/rcbrt.npz\")['brt']\n",
    "brt_time = np.load(\"../data/rcbrt.npz\")['brt_time']\n",
    "brt_time += [brt_time[-1]]\n",
    "                                  \n",
    "f = plt.figure(figsize=(16,9))\n",
    "gs  = gridspec.GridSpec(2,2, f)\n",
    "\n",
    "\n",
    "def plot_brt(ax, mesh, time_step):\n",
    "\tax.grid('on')\n",
    "\tax.add_collection3d(mesh)  \n",
    "\txlim = (0, 1.75)\n",
    "\tylim = (0, 1.75)\n",
    "\tzlim = (0, 2*np.pi)\n",
    "\n",
    "\tax.set_xlim3d(*xlim)\n",
    "\tax.set_ylim3d(*ylim)\n",
    "\tax.set_zlim3d(*zlim)\n",
    "\tax.set_title(rf'BRT at {time_step}/2.5 secs.', \\\n",
    "\t\t\tfontdict={'fontsize':18, 'fontweight':'bold'})\n",
    "\n",
    "\n",
    "# slices to plot:\n",
    "slc = [0, 3, 7, 10]\n",
    "brt_time = np.linspace(0, 2.0, 11)\n",
    "ax = [plt.subplot(gs[0, 0], projection='3d'), \n",
    "\t  plt.subplot(gs[0, 1], projection='3d'),\n",
    "\t  plt.subplot(gs[1, 0], projection='3d'),\n",
    "\t  plt.subplot(gs[1, 1], projection='3d')]\n",
    "i=0\n",
    "for slc_num in slc:\t\t\n",
    "\tmesh = implicit_mesh(brt[slc_num], level=0, spacing=tuple(g.dx.flatten().tolist()),\n",
    "\t\t\t\t\t\t\t\t\tedge_color=None,  face_color='orchid')\n",
    "\tplot_brt(ax[i], mesh, brt_time[slc_num])\n",
    "\ti+=1\t\n",
    "plt.show()\n"
   ]
  },
  {
   "cell_type": "code",
   "execution_count": null,
   "metadata": {},
   "outputs": [],
   "source": [
    "def controllability(g, gr, attr, value_func_init):\n",
    "\tfontdict = {'fontsize':28, 'fontweight':'bold'}\n",
    "\tf, (ax1, ax2) = plt.subplots(1,2,figsize=(16, 6))\n",
    "\n",
    "\tax1.contour(g.xs[0], g.xs[1], attr, colors='red')\n",
    "\tax1.set_title('Analytical TTR', fontdict =fontdict)\n",
    "\tax1.set_xlabel(r\"$x_1 (m)$\", fontdict =fontdict)\n",
    "\tax1.set_ylabel(r\"$x_2 (ms^{-1})$\", fontdict =fontdict)\n",
    "\tax1.tick_params(axis='both', which='major', labelsize=28)\n",
    "\tax1.tick_params(axis='both', which='minor', labelsize=18)\n",
    "\tax1.set_xlim([-1.02, 1.02])\n",
    "\tax1.set_ylim([-1.01, 1.01])\n",
    "\tax1.grid()\n",
    "\n",
    "\tax2.contour(gr.xs[0], gr.xs[1], value_func_init, colors='blue')\n",
    "\tax2.set_title('Numerical TTR', fontdict =fontdict)\n",
    "\tax2.set_xlabel(r\"$x_1 (m)$\", fontdict =fontdict)\n",
    "\tax2.set_xlim([-1.02, 1.02])\n",
    "\tax2.set_ylim([-1.01, 1.01])\n",
    "\tax2.grid('on')\n",
    "\tax2.tick_params(axis='both', which='major', labelsize=28)\n",
    "\tax2.tick_params(axis='both', which='minor', labelsize=18)\n",
    "\tax2.legend(loc=\"center left\", fontsize=8) \n",
    "\n",
    "\tf.suptitle(f\"Levelsets\")\n",
    "\n",
    "\tf.canvas.draw()\n",
    "\tf.canvas.flush_events()\n",
    "\ttime.sleep(args.pause_time)"
   ]
  },
  {
   "cell_type": "code",
   "execution_count": null,
   "metadata": {},
   "outputs": [],
   "source": [
    "g.xs = [g.xs[i].get() for i in range(g.dim)]\n",
    "gr.xs = [gr.xs[i].get() for i in range(gr.dim)]\n",
    "view_noncontrollability(g, gr, attr, value_rob)"
   ]
  },
  {
   "cell_type": "code",
   "execution_count": null,
   "metadata": {},
   "outputs": [],
   "source": [
    "gs"
   ]
  },
  {
   "cell_type": "code",
   "execution_count": null,
   "metadata": {},
   "outputs": [],
   "source": [
    "p1, p2, mode= obj.p1.pursuer, obj.p1.evader, 'capture'\n",
    "\n",
    "assert isfield(p1, 'center'), 'player I must have a center '\\\n",
    "                                'defined for its capture equation.'\n",
    "assert isfield(p2, 'center'), 'player II must have a center '\\\n",
    "                                'defined for its capture equation.'\n",
    "assert isfield(p1, 'grid'), 'player I must have its grid info'\n",
    "assert isfield(p2, 'grid'), 'player II must have its grid info'\n",
    "\n",
    "x1 = p1.grid.xs\n",
    "x2 = p2.grid.xs\n",
    "\n",
    "p1_dyn  = cell(3)\n",
    "p2_dyn = cell(3)\n",
    "\n",
    "p1_dyn[0] = obj.vp*np.cos(x1[2])\n",
    "p1_dyn[1] = obj.vp*np.sin(x1[2])\n",
    "p1_dyn[2] = obj.we\n",
    "\n",
    "p2_dyn[0] = obj.ve*np.cos(x2[2])\n",
    "p2_dyn[1] = obj.ve*np.sin(x2[2])\n",
    "p2_dyn[2] = obj.wp\n",
    "\n",
    "data_agent1 = np.zeros(p1.grid.shape)\n",
    "data_agent2 = np.zeros(p2.grid.shape)\n",
    "\n",
    "if isfield(p1, 'center') and numel(p1.center==1):\n",
    "    p1.center = p1.center*np.ones((p1.grid.dim,1), dtype=np.float64)\n",
    "if isfield(p2, 'center') and numel(p2.center==1):\n",
    "    p2.center = p2.center*np.ones((p2.grid.dim,1), dtype=np.float64)\n",
    "        "
   ]
  },
  {
   "cell_type": "markdown",
   "metadata": {},
   "source": [
    "### This for the Double Integrator"
   ]
  },
  {
   "cell_type": "code",
   "execution_count": null,
   "metadata": {},
   "outputs": [],
   "source": [
    "import cupy as cp\n",
    "import numpy as np\n",
    "\n",
    "import sys\n",
    "from os.path import abspath, join\n",
    "sys.path.append(abspath(join('../..')))\n",
    "from LevelSetPy.Utilities import *\n",
    "from LevelSetPy.Grids import createGrid\n",
    "from LevelSetPy.Helper import postTimeStepTTR\n",
    "from LevelSetPy.Visualization import implicit_mesh\n",
    "from LevelSetPy.DynamicalSystems import DoubleIntegrator\n",
    "from LevelSetPy.SpatialDerivative import upwindFirstWENO5\n",
    "from LevelSetPy.ExplicitIntegration import artificialDissipationGLF\n",
    "from LevelSetPy.ExplicitIntegration.Integration import odeCFL3, odeCFLset\n",
    "from LevelSetPy.ExplicitIntegration.Term import termRestrictUpdate, termLaxFriedrichs\n"
   ]
  },
  {
   "cell_type": "code",
   "execution_count": null,
   "metadata": {},
   "outputs": [],
   "source": [
    "gmin = np.array(([[-1, -1]]),dtype=np.float64).T\n",
    "gmax = np.array(([[1, 1]]),dtype=np.float64).T\n",
    "g = createGrid(gmin, gmax, 101, None)\n",
    "\n",
    "eps_targ = 1.0\n",
    "u_bound = 1\n",
    "target_rad = .2 #eps_targ * np.max(g.dx)\n",
    "dint = DoubleIntegrator(g, u_bound)\n",
    "value_time2reach = dint.min_time2reach() - target_rad\n",
    "value_time2reach = np.maximum(0, value_time2reach)"
   ]
  },
  {
   "cell_type": "code",
   "execution_count": null,
   "metadata": {},
   "outputs": [],
   "source": [
    "above_curve=dint.grid.xs[0]>dint.Gamma\n",
    "below_curve=dint.grid.xs[0]<dint.Gamma\n",
    "on_curve=dint.grid.xs[0]==dint.Gamma\n",
    "\n",
    "reach_term1  = (dint.grid.xs[1] + np.emath.sqrt(4*dint.grid.xs[0] + \\\n",
    "                         2 * dint.grid.xs[1]**2))*above_curve\n",
    "reach_term2 =  (-dint.grid.xs[1]+np.emath.sqrt(-4*dint.grid.xs[0] + \\\n",
    "                2 * dint.grid.xs[1]**2) )*below_curve\n",
    "reach_term3 = np.abs(dint.grid.xs[1]) * on_curve\n",
    "reach_time = reach_term1.real + reach_term2.real + reach_term3"
   ]
  },
  {
   "cell_type": "code",
   "execution_count": null,
   "metadata": {},
   "outputs": [],
   "source": [
    "dataIn = cp.arange(1, 13).reshape(3, 4)\n",
    "print('dataIn\\n', dataIn)\n",
    "indices =[ [3], [5]]\n",
    "print()\n",
    "print(dataIn[cp.ix_(*indices)])"
   ]
  },
  {
   "cell_type": "markdown",
   "metadata": {},
   "source": [
    "### Multiple vehicles"
   ]
  },
  {
   "cell_type": "code",
   "execution_count": null,
   "metadata": {},
   "outputs": [],
   "source": [
    "\n",
    "obj = Bundle({})\n",
    "\n",
    "\n",
    "pdDims = 2; N = 100\n",
    "v, w = +1, +1\n",
    "obj.ve, obj.vp = v, v\n",
    "obj.we, obj.wp = -w, w\n",
    "\n",
    "\n",
    "# get player (pursuer) 1's state space\n",
    "gmin = np.array(([[-5, -5, -pi]])).T\n",
    "gmax = np.array(([[0, 0, pi]])).T\n",
    "obj.p1 = Bundle({'pursuer':Bundle({}), 'evader':Bundle({})})\n",
    "obj.p1.pursuer.grid = createGrid(gmin, gmax, N, pdDims)\n",
    "obj.p1.pursuer.center = np.array(([[-2.5, -2.5, 0]]),dtype=np.float64).T\n",
    "obj.p1.pursuer.radius = 0.5\n",
    "obj.p1.pursuer.basis = np.array(([[1,0,0]]))\n",
    "\n",
    "# get player (evader) 2's state space\n",
    "gmin = np.array(([[0, 0, pi]])).T\n",
    "gmax = np.array(([[5, 5, 3*pi]])).T\n",
    "obj.p1.evader.grid = createGrid(gmin, gmax, N, pdDims)\n",
    "obj.p1.evader.center = np.array(([[2.5, 2.5, 2*pi]]),dtype=np.float64).T\n",
    "obj.p1.evader.radius = .5\n",
    "obj.p1.evader.basis = np.array(([[0,1,0]]))\n",
    "\n",
    "# get player (pursuer) 3's state space\n",
    "gmin = np.array(([[5, 5, 3*pi]])).T\n",
    "gmax = np.array(([[10, 10, 5*pi]])).T\n",
    "obj.p2 = Bundle({'pursuer':Bundle({}), 'evader':Bundle({})})\n",
    "obj.p2.pursuer.grid = createGrid(gmin, gmax, N, pdDims)\n",
    "obj.p2.pursuer.center = np.array(([[7.5, 7.5, 4*pi]]),dtype=np.float64).T\n",
    "obj.p2.pursuer.radius = .5\n",
    "obj.p2.pursuer.basis = np.array(([[0,0,1]]))\n",
    "\n",
    "# get player (evader) 4's state space\n",
    "gmin = np.array(([[10, 10, 5*pi]])).T\n",
    "gmax = np.array(([[15, 15, 7*pi]])).T\n",
    "obj.p2.evader.grid = createGrid(gmin, gmax, N, pdDims)\n",
    "obj.p2.evader.center = np.array(([[12.5, 12.5, 6*pi]]),dtype=np.float64).T\n",
    "obj.p2.evader.radius = .5\n",
    "obj.p2.evader.basis = np.array(([[0,0,0,1]]))\n",
    "\n",
    "# Full grid\n",
    "gmin = np.array(([[-5, -5, -pi]])).T\n",
    "gmax = np.array(([[15, 15, 7*pi]])).T\n",
    "obj.full_grid = createGrid(gmin, gmax, N, pdDims)\n"
   ]
  },
  {
   "cell_type": "code",
   "execution_count": null,
   "metadata": {},
   "outputs": [],
   "source": [
    "obj.p1.pursuer.xdot = dubins_absolute(obj, obj.p1.pursuer)\n",
    "obj.p1.evader.xdot  = dubins_absolute(obj, obj.p1.evader)\n",
    "obj.p2.pursuer.xdot = dubins_absolute(obj, obj.p2.pursuer)\n",
    "obj.p2.evader.xdot  = dubins_absolute(obj, obj.p2.evader)\n",
    " \n",
    "value_func = shapeRectangleByCorners(obj.full_grid, lower=-3, upper=13)"
   ]
  },
  {
   "cell_type": "code",
   "execution_count": null,
   "metadata": {},
   "outputs": [],
   "source": [
    "# we now have a large value function, decompose the value w.r.t to the\n",
    "# basis of the four vehicles to get its correspondiung decomposition into diff bases"
   ]
  },
  {
   "cell_type": "code",
   "execution_count": null,
   "metadata": {},
   "outputs": [],
   "source": [
    "# compose rhe full grid as a tensor of all players\n",
    "obj.grid_compose_vs = obj.p1.pursuer.grid.vs + obj.p1.evader.grid.vs + \\\n",
    "                      obj.p2.pursuer.grid.vs + obj.p2.evader.grid.vs\n",
    "print([x.shape for x in obj.grid_compose_vs])\n",
    "\n",
    "# too big\n",
    "#FullTensor = np.meshgrid(*obj.grid_compose_vs, indexing='ij')"
   ]
  },
  {
   "cell_type": "code",
   "execution_count": null,
   "metadata": {},
   "outputs": [],
   "source": [
    "# direction cosine of p1.pursuer w.r.t p1.evader\n",
    "obj.p1.pursuer.basis_p1evader = np.dot(obj.p1.pursuer.basis.T, obj.p1.evader.basis)"
   ]
  },
  {
   "cell_type": "code",
   "execution_count": null,
   "metadata": {},
   "outputs": [],
   "source": [
    "p1_pursuer = np.asarray(obj.p1.pursuer.grid.xs).transpose([1,2,3,0])\n",
    "p1_evader = np.asarray(obj.p1.evader.grid.xs).transpose([1,2,3,0])\n",
    "p2_pursuer = np.asarray(obj.p2.pursuer.grid.xs).transpose([1,2,3,0])\n",
    "p2_evader = np.asarray(obj.p2.evader.grid.xs).transpose([1,2,3,0])\n",
    "FT = np.concatenate((p1_pursuer, p1_evader), )\n",
    "FT.shape\n",
    "\n",
    "# use HOSVD to compute optimal rotation vector of one agent's state space to another's state space\n",
    "\n",
    "def kabsch(P, Q):\n",
    "    \"\"\"\n",
    "    Using the Kabsch algorithm with two sets of paired point P and Q, centered\n",
    "    around the centroid. Each vector set is represented as an NxD\n",
    "    matrix, where D is the the dimension of the space.\n",
    "    The algorithm works in three steps:\n",
    "    - a centroid translation of P and Q (assumed done before this function\n",
    "      call)\n",
    "    - the computation of a covariance matrix C\n",
    "    - computation of the optimal rotation matrix U\n",
    "    For more info see http://en.wikipedia.org/wiki/Kabsch_algorithm\n",
    "    Parameters\n",
    "    ----------\n",
    "    P : array\n",
    "        (N,D) matrix, where N is points and D is dimension.\n",
    "    Q : array\n",
    "        (N,D) matrix, where N is points and D is dimension.\n",
    "    Returns\n",
    "    -------\n",
    "    U : matrix\n",
    "        Rotation matrix (D,D)\n",
    "    \"\"\"\n",
    "\n",
    "    # Computation of the covariance matrix\n",
    "    C = np.dot(np.transpose(P), Q)\n",
    "\n",
    "    # Computation of the optimal rotation matrix\n",
    "    # This can be done using singular value decomposition (SVD)\n",
    "    # Getting the sign of the det(V)*(W) to decide\n",
    "    # whether we need to correct our rotation matrix to ensure a\n",
    "    # right-handed coordinate system.\n",
    "    # And finally calculating the optimal rotation matrix U\n",
    "    # see http://en.wikipedia.org/wiki/Kabsch_algorithm\n",
    "    V, S, W = np.linalg.svd(C)\n",
    "    d = (np.linalg.det(V) * np.linalg.det(W)) < 0.0\n",
    "\n",
    "    if d:\n",
    "        S[-1] = -S[-1]\n",
    "        V[:, -1] = -V[:, -1]\n",
    "\n",
    "    # Create Rotation matrix U\n",
    "    U = np.dot(V, W)\n",
    "\n",
    "    return U\n"
   ]
  },
  {
   "cell_type": "code",
   "execution_count": null,
   "metadata": {},
   "outputs": [],
   "source": [
    "a = np.arange(9).reshape(3,3)\n",
    "b, c = 2*a, 3*a"
   ]
  },
  {
   "cell_type": "code",
   "execution_count": null,
   "metadata": {},
   "outputs": [],
   "source": [
    "np.minimum(a, b, c)"
   ]
  },
  {
   "cell_type": "code",
   "execution_count": null,
   "metadata": {},
   "outputs": [],
   "source": [
    "a = a.flatten()\n",
    "a[1:-1]"
   ]
  },
  {
   "cell_type": "code",
   "execution_count": null,
   "metadata": {},
   "outputs": [],
   "source": []
  }
 ],
 "metadata": {
  "interpreter": {
   "hash": "874e9c5d3e1d3c4d0308033a6b04954c770eba71063a41ed49bc0fc997058881"
  },
  "kernelspec": {
   "display_name": "Python 3 Spark - HDInsight",
   "language": "python",
   "name": "python3"
  },
  "language_info": {
   "codemirror_mode": {
    "name": "ipython",
    "version": 3
   },
   "file_extension": ".py",
   "mimetype": "text/x-python",
   "name": "python",
   "nbconvert_exporter": "python",
   "pygments_lexer": "ipython3",
   "version": "3.8.12"
  },
  "orig_nbformat": 4
 },
 "nbformat": 4,
 "nbformat_minor": 2
}
