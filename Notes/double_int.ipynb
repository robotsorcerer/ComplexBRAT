{
 "cells": [
  {
   "cell_type": "markdown",
   "metadata": {},
   "source": [
    "### This for the Double Integrator"
   ]
  },
  {
   "cell_type": "code",
   "execution_count": 1,
   "metadata": {},
   "outputs": [],
   "source": [
    "import copy\n",
    "import cupy as cp\n",
    "import numpy as np\n",
    "import scipy.linalg as la\n",
    "import matplotlib.pyplot as plt\n",
    "\n",
    "import sys\n",
    "from os.path import abspath, join\n",
    "sys.path.append(abspath(join('..')))\n",
    "from BRATVisualization.rcbrt_visu import RCBRTVisualizer\n",
    "sys.path.append(abspath(join('../..')))\n",
    "from LevelSetPy.Utilities import *\n",
    "from LevelSetPy.Grids import createGrid\n",
    "from LevelSetPy.Helper import postTimeStepTTR\n",
    "from LevelSetPy.Visualization import implicit_mesh\n",
    "from LevelSetPy.DynamicalSystems import DoubleIntegrator\n",
    "from LevelSetPy.SpatialDerivative import upwindFirstENO2\n",
    "from LevelSetPy.ExplicitIntegration import artificialDissipationGLF\n",
    "from LevelSetPy.ExplicitIntegration.Integration import odeCFL2, odeCFLset\n",
    "from LevelSetPy.ExplicitIntegration.Term import termRestrictUpdate, termLaxFriedrichs"
   ]
  },
  {
   "cell_type": "code",
   "execution_count": 2,
   "metadata": {},
   "outputs": [],
   "source": [
    "gmin = np.array(([[-1, -1]]),dtype=np.float64).T\n",
    "gmax = np.array(([[1, 1]]),dtype=np.float64).T\n",
    "g = createGrid(gmin, gmax, 101, None)\n",
    "\n",
    "eps_targ = 1.0\n",
    "u_bound = 1\n",
    "target_rad = .2 #eps_targ * np.max(g.dx)\n",
    "dint = DoubleIntegrator(g, u_bound)\n",
    "attr = dint.mttr() - target_rad\n",
    "\n",
    "value_func = copy.copy(attr)\n",
    "value_func_init = copy.copy(value_func)\n",
    "\n",
    "attr = np.maximum(0, attr)\n",
    "\n",
    "args = Bundle(dict(elevation=5, azimuth=5, pause_time=1,visualize=False))\n",
    "#turn the state space over to the gpu\n",
    "g.xs = [cp.asarray(x) for x in g.xs]\n",
    "finite_diff_data = Bundle({'grid':g, 'hamFunc': dint.hamiltonian,\n",
    "\t\t\t\t'partialFunc': dint.dynamics,\n",
    "\t\t\t\t'dissFunc': artificialDissipationGLF,\n",
    "\t\t\t\t'derivFunc': upwindFirstENO2,\n",
    "\t\t\t\t'input_bound': u_bound,\n",
    "\t\t\t\t'innerFunc': termLaxFriedrichs,\n",
    "\t\t\t\t'positive': False,  # direction to grow the updated level set\n",
    "\t\t\t\t})\n",
    "innerData =  copy.copy(finite_diff_data)\n",
    "del finite_diff_data\n",
    "\n",
    "# # Wrap the true Hamiltonian inside the term approximation restriction routine.\n",
    "finite_diff_data = Bundle(dict(innerFunc = termLaxFriedrichs,\n",
    "\t\t\t\t\t\t\t\tinnerData = innerData,\n",
    "\t\t\t\t\t\t\t\tpositive = False,  # direction to grow the updated level set\n",
    "\t\t\t\t\t\t\t))\n",
    "small = 100*eps\n",
    "t_span = np.linspace(0, 2.0, 20)\n",
    "options = Bundle(dict(factorCFL=0.75, stats='on', maxStep=realmax, \\\n",
    "\t\t\t\t\t\tsingleStep='off', postTimestep=postTimeStepTTR))\n",
    "\n",
    "y = copy.copy(value_func.flatten())\n",
    "y, finite_diff_data = postTimeStepTTR(0, y, finite_diff_data)\n",
    "value_func = cp.asarray(copy.copy(y.reshape(g.shape)))\n",
    "\n",
    "# Visualization paramters\n",
    "spacing = tuple(g.dx.flatten().tolist())\n",
    "params = Bundle(\n",
    "\t\t\t\t{\"grid\": g,\n",
    "\t\t\t\t\t'disp': True,\n",
    "\t\t\t\t\t'labelsize': 16,\n",
    "\t\t\t\t\t'labels': \"Initial 0-LevelSet\",\n",
    "\t\t\t\t\t'linewidth': 2,\n",
    "\t\t\t\t\t'data': value_func,\n",
    "\t\t\t\t\t'elevation': args.elevation,\n",
    "\t\t\t\t\t'azimuth': args.azimuth,\n",
    "\t\t\t\t\t'mesh': value_func.get(),\n",
    "\t\t\t\t\t'init_conditions': False,\n",
    "\t\t\t\t\t'pause_time': args.pause_time,\n",
    "\t\t\t\t\t'level': 0, # which level set to visualize\n",
    "\t\t\t\t\t'winsize': (16,9),\n",
    "\t\t\t\t\t'fontdict': Bundle({'fontsize':12, 'fontweight':'bold'}),\n",
    "\t\t\t\t\t\"savedict\": Bundle({\"save\": False,\n",
    "\t\t\t\t\t\t\t\t\"savename\": \"rcbrt\",\n",
    "\t\t\t\t\t\t\t\t\"savepath\": \"../jpeg_dumps/rcbrt\"})\n",
    "\t\t\t\t\t})\n",
    "\n",
    "if args.visualize:\n",
    "\tviz = RCBRTVisualizer(params)\n",
    "\n",
    "value_func_all = [value_func]\n",
    "\n",
    "cur_time, max_time = 0, t_span[-1]\n",
    "step_time = (t_span[-1]-t_span[0])/8.0\n",
    "\n",
    "start_time = cputime()\n",
    "itr_start = cp.cuda.Event()\n",
    "itr_end = cp.cuda.Event()"
   ]
  },
  {
   "cell_type": "markdown",
   "metadata": {},
   "source": [
    "# project the state spaces (dim-by-dim) unto reduced basis\n",
    "\n",
    "To project in an informed manner, we choose an approximation error\n",
    "    $\\epsilon$ e.g. 1e-5. \n",
    "\n",
    "We can construct a POD basis $V_r$ to use in the construction of the ROM.\n",
    "There are a few ways to make an informed choice of $r$; in this example, we examine the _projection error_, defined by\n",
    "$$\n",
    "\\text{err}_\\text{projection} = \\frac{||X - V_rV_r^\\mathsf{T}X||_F}{||X||_F}.\n",
    "$$\n",
    "We choose $r$ so that the projection error is under $10^{-5}$.\n",
    "\n"
   ]
  },
  {
   "cell_type": "code",
   "execution_count": 19,
   "metadata": {},
   "outputs": [
    {
     "data": {
      "text/plain": [
       "(101, 101)"
      ]
     },
     "execution_count": 19,
     "metadata": {},
     "output_type": "execute_result"
    }
   ],
   "source": [
    "value_func.shape"
   ]
  },
  {
   "cell_type": "code",
   "execution_count": 26,
   "metadata": {},
   "outputs": [
    {
     "data": {
      "image/png": "[encoded data removed]",
      "text/plain": [
       "<Figure size 432x288 with 1 Axes>"
      ]
     },
     "metadata": {
      "needs_background": "light"
     },
     "output_type": "display_data"
    }
   ],
   "source": [
    "from LevelSetPy.POD import *\n",
    "# Calculate the projection errors.\n",
    "VFunc = value_func.get()\n",
    "V, svdvals = pod_basis(VFunc, max(VFunc.shape))\n",
    "min_rank = minimal_projection_error(VFunc, V, eps=1e-5, plot=True)"
   ]
  },
  {
   "cell_type": "code",
   "execution_count": 27,
   "metadata": {},
   "outputs": [
    {
     "data": {
      "text/plain": [
       "6.305593432747569e-07"
      ]
     },
     "execution_count": 27,
     "metadata": {},
     "output_type": "execute_result"
    }
   ],
   "source": [
    "# optimal basis rank is 52\n",
    "Vr = V[:,:min_rank]\n",
    "projection_error(VFunc, Vr)"
   ]
  },
  {
   "cell_type": "markdown",
   "metadata": {},
   "source": [
    "Now we have the value funtion, and state space in this reduced basis \n",
    "which suposedly has the most energetic state for the system.\n",
    "Try using the levelsets toolbox to resolve this. First visualize the most energetic state in this reduced basis function.\n",
    "\n",
    "g_rom = copy.deepcopy(g)"
   ]
  },
  {
   "cell_type": "code",
   "execution_count": 75,
   "metadata": {},
   "outputs": [],
   "source": [
    "g_rom = copy.deepcopy(g)\n",
    "\n",
    "#Project the state space to this reduced basis\n",
    "g_rom.xs[0] = g.xs[0].get() @ Vr\n",
    "g_rom.xs[1] = g.xs[1].get() @ Vr\n",
    "\n",
    "# Project original value function onto this reduced basis too\n",
    "V_rom = value_func.get()@Vr\n",
    "g_rom.N = min_rank \n",
    "g_rom.shape = g_rom.xs[0].shape\n",
    "g_rom.dx  = [np.zeros_like(g_rom.xs[0]), \\\n",
    "             np.zeros_like(g_rom.xs[1])]\n",
    "g_rom.dx[0] = np.diff(g_rom.xs[0], prepend=g_rom.xs[0][0,-1]-g_rom.xs[0][1,-1]) \n",
    "g_rom.dx[1] = np.diff(g_rom.xs[1], prepend=g_rom.xs[1][0,-1]-g_rom.xs[1][1,-1])            "
   ]
  },
  {
   "cell_type": "code",
   "execution_count": null,
   "metadata": {},
   "outputs": [],
   "source": [
    "while max_time-cur_time > small * max_time:\n",
    "\titr_start.record()\n",
    "\tcpu_start = cputime()\n",
    "\n",
    "\ttime_step = f\"{cur_time:.2f}/{max_time:.2f}\"\n",
    "\n",
    "\ty0 = value_func.flatten()\n",
    "\n",
    "\t#How far to integrate\n",
    "\tt_span = np.hstack([cur_time, min(max_time, cur_time + step_time)])\n",
    "\n",
    "\t# one step of integration\n",
    "\tt, y, finite_diff_data = odeCFL2(termRestrictUpdate, t_span, y0, options, finite_diff_data)\n",
    "\tcp.cuda.Stream.null.synchronize()\n",
    "\tcur_time = t if np.isscalar(t) else t[-1]\n",
    "\n",
    "\tvalue_func = cp.reshape(y, g.shape)\n",
    "\n",
    "\tif args.visualize:\n",
    "\t\tdata_np = value_func.get()\n",
    "\t\tmesh=implicit_mesh(data_np, level=0, spacing=spacing,\n",
    "\t\t\t\t\t\t\tedge_color='None',  face_color='red')\n",
    "\t\tviz.update_tube(data_np, mesh, args.pause_time)\n",
    "\t\n",
    "\titr_end.record()\n",
    "\titr_end.synchronize()\n",
    "\tcpu_end = cputime()\n",
    "\t\n",
    "\tinfo(f't: {time_step} | GPU time: {(cp.cuda.get_elapsed_time(itr_start, itr_end)):.2f} | CPU Time: {(cpu_end-cpu_start):.2f}, | Targ bnds {min(y):.2f}/{max(y):.2f} Norm: {np.linalg.norm(y, 2):.2f}')\n",
    "\t\n",
    "\t# store this brt\n",
    "\tvalue_func_all.append(value_func.get())\n",
    "\t\t\n",
    "\tend_time = cputime()\n",
    "\tinfo(f'Total BRS/BRT execution time {(end_time - start_time):.4f} seconds.')"
   ]
  }
 ],
 "metadata": {
  "interpreter": {
   "hash": "a47cc16acb1e9503f067273f1dc5f16922188ba58502bb3ebce30741f9e7611a"
  },
  "kernelspec": {
   "display_name": "Python 3.7.10 64-bit ('37': conda)",
   "language": "python",
   "name": "python3"
  },
  "language_info": {
   "codemirror_mode": {
    "name": "ipython",
    "version": 3
   },
   "file_extension": ".py",
   "mimetype": "text/x-python",
   "name": "python",
   "nbconvert_exporter": "python",
   "pygments_lexer": "ipython3",
   "version": "3.7.10"
  },
  "orig_nbformat": 4
 },
 "nbformat": 4,
 "nbformat_minor": 2
}
