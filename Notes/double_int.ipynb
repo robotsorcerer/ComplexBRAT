{
 "cells": [
  {
   "cell_type": "markdown",
   "metadata": {},
   "source": [
    "### This for the Double Integrator"
   ]
  },
  {
   "cell_type": "code",
   "execution_count": 1,
   "metadata": {},
   "outputs": [],
   "source": [
    "import cupy as cp\n",
    "import numpy as np\n",
    "\n",
    "import sys\n",
    "from os.path import abspath, join\n",
    "sys.path.append(abspath(join('..')))\n",
    "from BRATVisualization.rcbrt_visu import RCBRTVisualizer\n",
    "sys.path.append(abspath(join('../..')))\n",
    "from LevelSetPy.Utilities import *\n",
    "from LevelSetPy.Grids import createGrid\n",
    "from LevelSetPy.Helper import postTimeStepTTR\n",
    "from LevelSetPy.Visualization import implicit_mesh\n",
    "from LevelSetPy.DynamicalSystems import DoubleIntegrator\n",
    "from LevelSetPy.SpatialDerivative import upwindFirstENO2\n",
    "from LevelSetPy.ExplicitIntegration import artificialDissipationGLF\n",
    "from LevelSetPy.ExplicitIntegration.Integration import odeCFL2, odeCFLset\n",
    "from LevelSetPy.ExplicitIntegration.Term import termRestrictUpdate, termLaxFriedrichs"
   ]
  },
  {
   "cell_type": "code",
   "execution_count": 7,
   "metadata": {},
   "outputs": [],
   "source": [
    "gmin = np.array(([[-1, -1]]),dtype=np.float64).T\n",
    "gmax = np.array(([[1, 1]]),dtype=np.float64).T\n",
    "g = createGrid(gmin, gmax, 101, None)\n",
    "\n",
    "eps_targ = 1.0\n",
    "u_bound = 1\n",
    "target_rad = .2 #eps_targ * np.max(g.dx)\n",
    "dint = DoubleIntegrator(g, u_bound)\n",
    "value_func = dint.mttr() - target_rad\n",
    "value_func = np.maximum(0, value_func)\n",
    "\n",
    "#turn the state space over to the gpu\n",
    "g.xs = [cp.asarray(x) for x in g.xs]\n",
    "\n",
    "# Wrap the true Hamiltonian inside the term approximation restriction routine.\n",
    "finite_diff_data = Bundle(dict(innerFunc = termLaxFriedrichs,\n",
    "                                innerData = Bundle({'grid':g, 'hamFunc': dint.hamiltonian,\n",
    "                                                'partialFunc': dint.dynamics,\n",
    "                                                'dissFunc': artificialDissipationGLF,\n",
    "                                                'derivFunc': upwindFirstENO2,\n",
    "                                                }),\n",
    "                                positive = False,  # direction to grow the updated level set\n",
    "                            ))\n",
    "small = 100*eps\n",
    "t_span = np.linspace(0, 2.0, 20)\n",
    "options = Bundle(dict(factorCFL=0.75, stats='on', maxStep=realmax, \\\n",
    "                        singleStep='on', postTimestep=postTimeStepTTR))\n",
    "\n",
    "y = value_func.flatten()\n",
    "y, finite_diff_data = postTimeStepTTR(0, y, finite_diff_data)\n",
    "value_func = y.reshape(g.shape)"
   ]
  },
  {
   "cell_type": "code",
   "execution_count": 3,
   "metadata": {},
   "outputs": [
    {
     "data": {
      "text/plain": [
       "172.15507974569923"
      ]
     },
     "execution_count": 3,
     "metadata": {},
     "output_type": "execute_result"
    }
   ],
   "source": [
    "gmin = np.array(([[-1, -1]]),dtype=np.float64).T\n",
    "gmax = np.array(([[1, 1]]),dtype=np.float64).T\n",
    "g = createGrid(gmin, gmax, 101, None)\n",
    "\n",
    "\n",
    "import scipy.linalg as LA \n",
    "eps_targ = 1.0\n",
    "u_bound = 1\n",
    "target_rad = .2 #eps_targ * np.max(g.dx)\n",
    "dint = DoubleIntegrator(g, u_bound)\n",
    "LA.norm(dint.mttr(), 2)"
   ]
  },
  {
   "cell_type": "code",
   "execution_count": 135,
   "metadata": {},
   "outputs": [],
   "source": [
    "import scipy.io as sio\n",
    "import scipy.linalg as LA \n",
    "\n",
    "class DoubleIntegrator():\n",
    "    def __init__(self, grid, u_bound=1):\n",
    "        \"\"\"\n",
    "            The base function for the double integrator's \n",
    "            minimum time to reach problem.\n",
    "\n",
    "            Dynamics: \\ddot{x}= u,  u \\in [-1,1]\n",
    "\n",
    "            This can represent a car with position \n",
    "            x \\in \\mathbb{R} and with bounded acceleration u acting \n",
    "            as the control (negative acceleration corresponds to braking). \n",
    "            Let us study the problem of ``parking\" the car at the origin, \n",
    "            i.e., bringing it to rest at $ x=0$ , in minimal time. \n",
    "            It is clear that the system can indeed be brought to rest  \n",
    "            at the origin from every initial condition. However, since the \n",
    "            control is bounded, we cannot do this arbitrarily fast (we are \n",
    "            ignoring the trivial case when the system is initialized at the \n",
    "            origin). Thus we expect that there exists an optimal control \n",
    "            u^* which achieves the transfer in the smallest amount of time. \n",
    "\n",
    "            Ref: http://liberzon.csl.illinois.edu/teaching/cvoc/node85.html\n",
    "\n",
    "            Parameters\n",
    "            ==========\n",
    "                grid: an np.meshgrid state space on which we are resolving this integrator dynamics.\n",
    "        \"\"\"        \n",
    "        self.grid     = grid\n",
    "\n",
    "        matFile = sio.loadmat('../../LevelSetMat/gxs.mat')\n",
    "        mxs = matFile['xs']; \n",
    "        self.grid = grid\n",
    "        self.grid.xs[0] = mxs[0][0] \n",
    "        self.grid.xs[1] = mxs[1][0]\n",
    "\n",
    "        self.control_law = u_bound\n",
    "        self.Gamma = self.switching_curve # switching curve\n",
    "\n",
    "    @property\n",
    "    def switching_curve(self):\n",
    "        \"\"\"\n",
    "            \\Gamma = -(1/2) . x_2 . |x_2|\n",
    "        \"\"\"\n",
    "        self.Gamma = -.5*self.grid.xs[1]*np.abs(self.grid.xs[1])\n",
    "\n",
    "        return self.Gamma\n",
    " \n",
    "    def hamiltonian(self, t, data, grid_derivs, schemedata): \n",
    "        \"\"\"\n",
    "            H = \\dot{x1} . x2 + \\dot{x2} . u + x_0\n",
    "\n",
    "            Here, x_0 is initial state which is zero.\n",
    "\n",
    "            Parameters\n",
    "            ==========\n",
    "                grid_derivs: Spatial derivatives (finite difference) of \n",
    "                            grid points computed with upwinding.\n",
    "        \"\"\"\n",
    "        \n",
    "        return -(grid_derivs[0]*self.grid.xs[1]+grid_derivs[1]*self.control_law)\n",
    "\n",
    "    def dynamics(self, t, data, derivMin, derivMax, \\\n",
    "                      schemeData, dim):\n",
    "        \"\"\"\n",
    "            Parameters\n",
    "            ==========\n",
    "                dim: The dimension of the ode to return.\n",
    "        \"\"\"\n",
    "        x_dot = [\n",
    "                    np.abs(self.grid.xs[1]),\n",
    "                    np.abs(self.control_law * np.zeros_like(self.grid.xs[1]))\n",
    "        ]\n",
    "\n",
    "        return x_dot[dim]\n",
    "\n",
    "    def mttr(self):\n",
    "        \"\"\"\n",
    "            Computes the minimum time we need to reach the \n",
    "            switching curve:\n",
    "\n",
    "            x2 + (sqrt(4x_1 + 2 x_2^2).(x_1 > \\Gamma)) + \n",
    "            (-x_2 + sqrt(2x_2^2 - 4 x_1) . (x_1 < \\Gamma) +\n",
    "            (|x_2| . (x_1 == \\Gamma)).\n",
    "        \"\"\"\n",
    "\n",
    "        #be sure to update the switching curve first\n",
    "        self.switching_curve\n",
    "        \n",
    "        #  Compute the current state on or outside of the \n",
    "        # switching curve.\n",
    "\n",
    "        above_curve = (self.grid.xs[0]>self.Gamma)\n",
    "        below_curve = (self.grid.xs[0]<self.Gamma)\n",
    "        on_curve    = (self.grid.xs[0]==self.Gamma)\n",
    "\n",
    "        print(np.count_nonzero(self.grid.xs[0]>self.Gamma),\\\n",
    "            np.count_nonzero(self.grid.xs[0]<self.Gamma), \\\n",
    "                np.count_nonzero(self.grid.xs[0]==self.Gamma))\n",
    "\n",
    "        reach_term1  = (self.grid.xs[1] + np.emath.sqrt(4*self.grid.xs[0] + \\\n",
    "                         2 * self.grid.xs[1]**2))*above_curve\n",
    "        reach_term2 =  (-self.grid.xs[1]+np.emath.sqrt(-4*self.grid.xs[0] + \\\n",
    "                        2 * self.grid.xs[1]**2) )*below_curve\n",
    "        reach_term3 = np.abs(self.grid.xs[1]) * on_curve\n",
    "        print(LA.norm(reach_term1, 2))\n",
    "        print(LA.norm(reach_term2, 2))\n",
    "        print(LA.norm(reach_term3, 2))\n",
    "        \n",
    "        reach_time = reach_term1 + reach_term2 + reach_term3\n",
    "                      \n",
    "        return reach_time\n",
    "           "
   ]
  },
  {
   "cell_type": "code",
   "execution_count": 137,
   "metadata": {},
   "outputs": [
    {
     "name": "stdout",
     "output_type": "stream",
     "text": [
      "5099 5099 3\n",
      "124.73031068905173\n",
      "124.73031068905173\n",
      "1.0\n"
     ]
    }
   ],
   "source": [
    "gmin = np.array(([[-1, -1]]),dtype=np.float64).T\n",
    "gmax = np.array(([[1, 1]]),dtype=np.float64).T\n",
    "gtemp = createGrid(gmin, gmax, 101, None)\n",
    "\n",
    "DI = DoubleIntegrator(gtemp, u_bound)\n",
    "mttr = DI.mttr()"
   ]
  },
  {
   "cell_type": "code",
   "execution_count": 141,
   "metadata": {},
   "outputs": [
    {
     "data": {
      "text/plain": [
       "172.155079745927"
      ]
     },
     "execution_count": 141,
     "metadata": {},
     "output_type": "execute_result"
    }
   ],
   "source": [
    "LA.norm(mttr, 2)"
   ]
  },
  {
   "cell_type": "code",
   "execution_count": 129,
   "metadata": {},
   "outputs": [
    {
     "data": {
      "text/plain": [
       "(235.57045655175014, 92.13786654356612, 246.01612124314477)"
      ]
     },
     "execution_count": 129,
     "metadata": {},
     "output_type": "execute_result"
    }
   ],
   "source": [
    "t1, t2 = (4*DI.grid.xs[0]), (2 * DI.grid.xs[1]**2)\n",
    "LA.norm(t1, 2), LA.norm(t2, 2), LA.norm(t1+t2, 2)"
   ]
  },
  {
   "cell_type": "code",
   "execution_count": 8,
   "metadata": {},
   "outputs": [
    {
     "data": {
      "text/plain": [
       "array([[ 0,  2,  3,  0],\n",
       "       [ 0,  5,  0, 30]])"
      ]
     },
     "execution_count": 8,
     "metadata": {},
     "output_type": "execute_result"
    }
   ],
   "source": [
    "np.maximum(0, [[-1, 2, 3, -5], [-4, 5, -6, 30]])"
   ]
  },
  {
   "cell_type": "code",
   "execution_count": null,
   "metadata": {},
   "outputs": [],
   "source": []
  }
 ],
 "metadata": {
  "interpreter": {
   "hash": "a47cc16acb1e9503f067273f1dc5f16922188ba58502bb3ebce30741f9e7611a"
  },
  "kernelspec": {
   "display_name": "Python 3.7.10 64-bit ('37': conda)",
   "language": "python",
   "name": "python3"
  },
  "language_info": {
   "codemirror_mode": {
    "name": "ipython",
    "version": 3
   },
   "file_extension": ".py",
   "mimetype": "text/x-python",
   "name": "python",
   "nbconvert_exporter": "python",
   "pygments_lexer": "ipython3",
   "version": "3.7.10"
  },
  "orig_nbformat": 4
 },
 "nbformat": 4,
 "nbformat_minor": 2
}
