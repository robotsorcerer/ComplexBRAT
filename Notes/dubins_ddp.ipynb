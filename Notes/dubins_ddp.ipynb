{
 "cells": [
  {
   "cell_type": "code",
   "execution_count": 1,
   "metadata": {},
   "outputs": [],
   "source": [
    "import sys\n",
    "import copy\n",
    "import random\n",
    "import hashlib\n",
    "import cupy as cp \n",
    "import numpy as np\n",
    "from math import pi\n",
    "import numpy.linalg as LA\n",
    "from os.path import abspath, join\n",
    "sys.path.append(abspath(join('..')))\n",
    "sys.path.append(abspath(join('../..')))\n",
    "\n",
    "from datetime import datetime\n",
    "from os.path import expanduser\n",
    "\n",
    "import matplotlib.pyplot as plt\n",
    "import matplotlib.gridspec as gridspec\n",
    "\n",
    "from LevelSetPy.Grids import *\n",
    "from LevelSetPy.Utilities import *\n",
    "from LevelSetPy.Visualization import *\n",
    "from LevelSetPy.DynamicalSystems import *\n",
    "from LevelSetPy.BoundaryCondition import *\n",
    "from LevelSetPy.InitialConditions import *\n",
    "from LevelSetPy.SpatialDerivative import *\n",
    "from LevelSetPy.ExplicitIntegration import *\n",
    "from BRATVisualization.rcbrt_visu import RCBRTVisualizer\n",
    "\n",
    "%matplotlib inline"
   ]
  },
  {
   "cell_type": "code",
   "execution_count": 2,
   "metadata": {},
   "outputs": [],
   "source": [
    "args = Bundle(dict(visualize=True, flock_num=4, resume=\"murmurations_flock_01_02-06-22_17-43.hdf5\", flock_payoff=False, pause_time=1e-5))"
   ]
  },
  {
   "cell_type": "markdown",
   "metadata": {},
   "source": [
    "Dynamical System\n",
    "\n",
    "\\begin{align}\n",
    "  \\dot{x}_1 = &-v_e + v_p cos x_3 + w_e x_2  \\\\\n",
    "                &\\dot{x}_2 = -v_p sin x_3 - w_e x_1  \\\\\n",
    "                &\\dot{x}_3 = -w_p - w_e\n",
    "\\end{align}\n",
    "\n",
    "\n",
    "\\begin{align}\n",
    "  \\dot{x}_1 = f(x) + f(x, u) + f(x,v)\n",
    "\\end{align}"
   ]
  },
  {
   "cell_type": "markdown",
   "metadata": {},
   "source": [
    "### Hamiltonian\n",
    "\n",
    "$$ H(x,p) = p_1 [v_e - v_p cos(x_3)] - p_2 [v_p sin x_3] \n",
    "                   - w | p_1 x_2 - p_2 x_1 - p_3| + w |p_3|$$\n",
    "\n",
    "$$u = \\begin{bmatrix}  \n",
    "        0 \\\\ 0 \\\\ -w_e\n",
    "      \\end{bmatrix}, v = \\begin{bmatrix}  \n",
    "        0 \\\\ 0 \\\\ -w_p\n",
    "      \\end{bmatrix} $$                \n",
    "\n",
    "Find $H_u$, $H_v, \\, H_{uu}, H_{vv}, H_{uv}, H_{vu}, H_x, H_{xx} $    \n",
    "\n",
    "Observe: $v_e = v_p = 1$ <--- Not input\n",
    "\n",
    "$w_e = w_p = +1$ <-- input\n",
    "\n",
    "\n",
    "$$ H(x,p) = p_1 [1 -  cos(x_3)] - p_2 [ sin x_3] \n",
    "                   - w_e | p_1 x_2 - p_2 x_1 - p_3| + w_p |p_3|$$\n",
    "\n",
    "Rewrite in terms of $u $ and $v$:\n",
    "\n",
    "$$ H(x,p) = p_1 [1 -  cos(x_3)] - p_2 [ sin x_3] \n",
    "                   - u | p_1 x_2 - p_2 x_1 - p_3| + v |p_3|$$\n",
    "                 "
   ]
  },
  {
   "cell_type": "markdown",
   "metadata": {},
   "source": [
    "\n",
    "$$H_u = -| p_1 x_2 - p_2 x_1 - p_3|, \\,\\,H_v = |p_3|$$ \n",
    "\n",
    "\n",
    "$$\n",
    "        H_{ux} = \\begin{bmatrix}\n",
    "                        -sgn(p_2 x_1) \\mid p_2 \\mid \\\\\n",
    "                        -sgn(p_1 x_2) \\mid p_1 \\mid \\\\\n",
    "                        0 \n",
    "                \\end{bmatrix} \\,\\,\n",
    "        H_{vx} = \\begin{bmatrix}\n",
    "                        0 \\\\\n",
    "                        0 \\\\\n",
    "                        0 \n",
    "                \\end{bmatrix}\n",
    "$$\n",
    "\n",
    "$$H_{uu} = 0, \\,\\, H_{vv} = 0$$\n",
    "\n",
    "$$H_{x} = \\begin{bmatrix}\n",
    "                -sgn(p_2 x_1) \\mid p_2 \\mid u \\\\\n",
    "                sgn(p_1 x_2) \\mid p_1 \\mid u \\\\\n",
    "                p_1 \\sin x_3 - p_2 \\cos x_3\n",
    "        \\end{bmatrix}\n",
    "        $$    "
   ]
  },
  {
   "cell_type": "markdown",
   "metadata": {},
   "source": [
    "$$H_{xx} = \\begin{bmatrix}\n",
    "                -2 \\mid p_2  \\mid \\delta( x_1) u & 0 & 0 \\\\\n",
    "                0 & 2 \\mid p_1 \\mid \\delta(x_2)  u & 0\\\\\n",
    "                0 & 0 & p_1 \\cos x_3 + p_2 \\sin x_3\n",
    "        \\end{bmatrix}\n",
    "        $$    "
   ]
  },
  {
   "cell_type": "code",
   "execution_count": 3,
   "metadata": {},
   "outputs": [],
   "source": [
    "grid_min = expand(np.array((-.75, -1.25, -np.pi)), ax = 1)\n",
    "grid_max = expand(np.array((3.25, 1.25, np.pi)), ax = 1)\n",
    "pdDims = 2                      # 3rd dimension is periodic\n",
    "resolution = 100\n",
    "N = np.array(([[\n",
    "                resolution,\n",
    "                np.ceil(resolution*(grid_max[1, 0] - grid_min[1, 0])/ \\\n",
    "                            (grid_max[0, 0] - grid_min[0, 0])),\n",
    "                resolution-1\n",
    "                ]])).T.astype(int)\n",
    "grid_max[2, 0] *= (1-2/N[2,0])\n",
    "g = createGrid(grid_min, grid_max, N, pdDims)"
   ]
  },
  {
   "cell_type": "code",
   "execution_count": 4,
   "metadata": {},
   "outputs": [],
   "source": [
    "\"\"\"\n",
    "    What we do here is really simple. We run as many \n",
    "    a fwd and backward pass of ddp algos as possible  \n",
    "    on trajectories that are finely spaced apart by g.dx \n",
    "    \n",
    "    This part accumulates all trajectories within grid bounds\n",
    "\"\"\"\n",
    "V_buf = []\n",
    "all_traj = [copy.deepcopy(grid_min)]\n",
    "while np.any(all_traj[-1]<grid_max):\n",
    "    all_traj += [all_traj[-1]+g.dx]\n",
    "\n",
    "all_traj = np.array(all_traj[:resolution]).squeeze()\n",
    "\n",
    "# fix the inconsistencies in (x1, x2, x3)\n",
    "indices = [np.nan for idx in range(len(all_traj))]\n",
    "for dim in range(all_traj.shape[-1]):\n",
    "    indices[dim] = all_traj[:,dim]>grid_max[dim,0]\n",
    "    \n",
    "# replace trajectories with bounds that exceed max \n",
    "# values along respective dimensions\n",
    "for dim in range(all_traj.shape[-1]):\n",
    "    all_traj[indices[dim],dim] = grid_max[dim,0]"
   ]
  },
  {
   "cell_type": "code",
   "execution_count": null,
   "metadata": {},
   "outputs": [],
   "source": [
    "x = [1.5, 2.5, 3.0] \n",
    "dx = .1\n",
    "\n",
    "grid_min = [1, 2, 2.5]\n",
    "grid_max = [2, 3.5, 4.5]\n",
    "\n",
    "X = [grid_min]\n",
    "for i < N:\n",
    "    X += X[-1]+dx"
   ]
  },
  {
   "cell_type": "code",
   "execution_count": 5,
   "metadata": {},
   "outputs": [
    {
     "name": "stdout",
     "output_type": "stream",
     "text": [
      "[-0.75       -1.25       -3.14159265]\n",
      "[-0.70959596 -1.20967742 -3.07812614]\n",
      "[-0.66919192 -1.16935484 -3.01465962]\n",
      "[-0.62878788 -1.12903226 -2.9511931 ]\n",
      "[-0.58838384 -1.08870968 -2.88772658]\n",
      "[-0.5479798  -1.0483871  -2.82426006]\n",
      "[-0.50757576 -1.00806452 -2.76079354]\n"
     ]
    }
   ],
   "source": [
    "\"\"\"\n",
    "    Once we have the trajectories, we can start with the \n",
    "    usual backward and forward pass of DDP.\n",
    "    \n",
    "    This will require two loops:\n",
    "        Upper loop: Whereupon we iterate throuh every possible trajectory in \n",
    "        the system\n",
    "        Lower loop: Forward and backward passes of DDP\n",
    "\"\"\"\n",
    "x = copy.copy(all_traj)\n",
    "xr = \n",
    "# Here we go:\n",
    "for traj_idx, traj in enumerate(all_traj):\n",
    "    "
   ]
  },
  {
   "cell_type": "code",
   "execution_count": 39,
   "metadata": {},
   "outputs": [
    {
     "data": {
      "text/plain": [
       "(array([[3.25      , 1.25      , 3.07812614]]), (3, 1))"
      ]
     },
     "execution_count": 39,
     "metadata": {},
     "output_type": "execute_result"
    }
   ],
   "source": [
    "grid_max.T, grid_max.shape"
   ]
  },
  {
   "cell_type": "markdown",
   "metadata": {},
   "source": [
    "### Polytope test\n",
    "\n",
    "Given a matrix $A \\in \\mathbb{R}^n$ and a vector $b \\in \\mathbb{R}^m$, an $\\mathcal{H}-$ polyhedron is\n",
    "\n",
    "\\begin{align}\n",
    "    \\mathcal{P} = \\left\\{x \\in \\mathbb{R}^n \\mid Ax \\le b \\right\\}\n",
    "\\end{align}"
   ]
  },
  {
   "cell_type": "code",
   "execution_count": 33,
   "metadata": {},
   "outputs": [
    {
     "data": {
      "text/plain": [
       "array([[3.0000e-02, 3.5350e+00, 5.5000e+01],\n",
       "       [8.4000e-01, 1.1615e+01, 6.7000e+01],\n",
       "       [1.9000e-01, 1.2625e+01, 8.8000e+01]])"
      ]
     },
     "execution_count": 33,
     "metadata": {},
     "output_type": "execute_result"
    }
   ],
   "source": [
    "# x = np.linspace(0.1, 10, 3)\n",
    "\n",
    "A = np.array([\n",
    "     [.3, .7, 5.5],\n",
    "     [8.4, 2.3, 6.7],\n",
    "     [1.9, 2.5, 8.8]])\n",
    "\n",
    "b = [1, 2, 3]\n",
    "\n",
    "\n",
    "# Compute various x's\n",
    "import numpy.linalg as LA \n",
    "Xes = []\n",
    "\n",
    "\n"
   ]
  }
 ],
 "metadata": {
  "interpreter": {
   "hash": "874e9c5d3e1d3c4d0308033a6b04954c770eba71063a41ed49bc0fc997058881"
  },
  "kernelspec": {
   "display_name": "Python 3 (ipykernel)",
   "language": "python",
   "name": "python3"
  },
  "language_info": {
   "codemirror_mode": {
    "name": "ipython",
    "version": 3
   },
   "file_extension": ".py",
   "mimetype": "text/x-python",
   "name": "python",
   "nbconvert_exporter": "python",
   "pygments_lexer": "ipython3",
   "version": "3.8.12"
  }
 },
 "nbformat": 4,
 "nbformat_minor": 4
}
